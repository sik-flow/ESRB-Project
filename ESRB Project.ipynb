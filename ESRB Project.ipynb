{
 "cells": [
  {
   "cell_type": "markdown",
   "metadata": {},
   "source": [
    "# ESRB Rating Project"
   ]
  },
  {
   "cell_type": "markdown",
   "metadata": {},
   "source": [
    "## Table Of Contents\n",
    "<font size=3rem>\n",
    "    \n",
    "0 -**[ INTRO](#INTRODUCTION)<br>**\n",
    "1 -**[ OBTAIN](#OBTAIN)**<br>\n",
    "2 -**[ SCRUB](#SCRUB)**<br>\n",
    "3 -**[ EXPLORE](#EXPLORE)**<br>\n",
    "4 -**[ MODEL](#MODEL)**<br>\n",
    "5 -**[ INTERPRET](#INTERPRET)**<br>\n",
    "6 -**[ CONCLUSIONS & RECCOMENDATIONS](#Conclusions-&-Recommendations)<br>**\n",
    "</font>\n",
    "___"
   ]
  },
  {
   "cell_type": "markdown",
   "metadata": {},
   "source": [
    "# INTRODUCTION"
   ]
  },
  {
   "cell_type": "markdown",
   "metadata": {},
   "source": [
    "- Student: Cody Freese\n",
    "- Pace: Part Time\n",
    "- Amber Yandow\n",
    "\n",
    "In this notebook we will analyze ESRB Ratings and develop a model for predicting these ratings."
   ]
  },
  {
   "cell_type": "markdown",
   "metadata": {},
   "source": [
    "What is ESRB and what are the various Categories?\n",
    "ESRB stands for Entertainment Software Rating Board. It is an American regulatory organization for assigning content ratings to consumer Video games. It was established in 1994 in response to criticism of contoversial video games like mortal Kombat \"Fatality\". ESRB has the following labels:\n",
    "\n",
    "RP = Ratings Pending (1994-present) This symbol is used in promotional materials for games which have not yet been assigned a final rating by the ESRB.\n",
    "\n",
    "EC = Early Childhood (1994-2018) Games with this rating contain content which is aimed towards a preschool audience. They do not contain content that parents would find objectionable to this audience.No longer used as of 2018 due to few titles using this, and all titles with this rating are replaced with the E rating.\n",
    "\n",
    "E = Everyone (1994-present) Games with this rating contain content which the ESRB believes is \"generally suitable for all ages\".They can contain content such as infrequent use of \"mild\"/cartoon violence and mild language.This rating was known as Kids to Adults (K-A) until 1998, when it was renamed \"Everyone\".\n",
    "\n",
    "E10+ = Everyone 10+ (2005-present) Games with this rating contain content which the ESRB believes is generally suitable for those aged 10 years and older. They can contain content with an impact higher than the \"Everyone\" rating can accommodate, but still not as high as to warrant a \"Teen\" rating, such as a larger amount of violence, mild language, crude humor, or suggestive content.\n",
    "\n",
    "T = Teen (1994-present) Games with this rating contain content which the ESRB believes is generally suitable for those aged 13 years and older; they can contain content such as moderate amounts of violence (including small amounts of blood), mild to moderate use of language or suggestive themes, sexual content, partial nudity and crude humor.\n",
    "\n",
    "M17+ = Mature 17+ (1994-present) Games with this rating contain content which the ESRB believes is generally suitable for those aged 17 years and older; they can contain content with an impact higher than the \"Teen\" rating can accommodate, such as intense and/or realistic portrayals of violence (including blood, gore, mutilation, and depictions of death), strong sexual themes and content, nudity, and more frequent use of strong language.\n",
    "\n",
    "A => Adults (1994-present) Games with this rating contain content which the ESRB believes is only suitable for those aged 18 years and older; they contain content with an impact higher than the \"Mature\" rating can accommodate, such as graphic sexual themes and content, extreme portrayals of violence, or unsimulated gambling with real currency. The majority of AO-rated titles are pornographic adult video games; the ESRB has seldom issued the AO rating solely for violence."
   ]
  },
  {
   "cell_type": "markdown",
   "metadata": {},
   "source": [
    "## Import Tools"
   ]
  },
  {
   "cell_type": "code",
   "execution_count": 1,
   "metadata": {},
   "outputs": [
    {
     "name": "stderr",
     "output_type": "stream",
     "text": [
      "C:\\Users\\c_fre\\anaconda3\\envs\\learn-env\\lib\\site-packages\\statsmodels\\tools\\_testing.py:19: FutureWarning: pandas.util.testing is deprecated. Use the functions in the public API at pandas.testing instead.\n",
      "  import pandas.util.testing as tm\n"
     ]
    }
   ],
   "source": [
    "import pandas as pd\n",
    "import matplotlib.pyplot as plt\n",
    "import numpy as np\n",
    "import seaborn as sb\n",
    "\n",
    "import statsmodels as sm\n",
    "\n",
    "import sklearn.preprocessing as preprocessing\n",
    "from sklearn.decomposition import PCA\n",
    "\n",
    "from sklearn.ensemble import (RandomForestClassifier,GradientBoostingClassifier,\n",
    "                              BaggingClassifier,StackingClassifier,RandomForestRegressor)\n",
    "\n",
    "\n",
    "from sklearn.linear_model import LogisticRegression\n",
    "\n",
    "from sklearn.preprocessing import StandardScaler\n",
    "from sklearn.preprocessing import OneHotEncoder\n",
    "\n",
    "from sklearn.tree import DecisionTreeClassifier\n",
    "from sklearn.tree import DecisionTreeRegressor\n",
    "\n",
    "from sklearn.model_selection import train_test_split\n",
    "from scipy import stats\n",
    "\n",
    "from sklearn import tree\n",
    "\n",
    "from sklearn.metrics import accuracy_score\n",
    "from sklearn.metrics import mean_squared_error as mse\n",
    "from sklearn.metrics import r2_score\n",
    "from sklearn.metrics import classification_report, multilabel_confusion_matrix, confusion_matrix\n",
    "from sklearn.metrics import roc_auc_score, roc_curve, auc\n",
    "from sklearn.metrics import plot_confusion_matrix\n",
    "\n",
    "from sklearn.svm import SVC\n",
    "from sklearn.model_selection import GridSearchCV\n",
    "from sklearn.neighbors import NearestNeighbors, KNeighborsClassifier, KNeighborsRegressor\n",
    "\n",
    "import warnings\n",
    "warnings.filterwarnings(\"ignore\")"
   ]
  },
  {
   "cell_type": "code",
   "execution_count": 2,
   "metadata": {},
   "outputs": [],
   "source": [
    "pd.set_option('display.max_columns', None)"
   ]
  },
  {
   "cell_type": "code",
   "execution_count": 3,
   "metadata": {},
   "outputs": [],
   "source": [
    "def set_frameon(self, b):\n",
    "        self.patch.set_visible(b)\n",
    "        self.stale = True"
   ]
  },
  {
   "cell_type": "code",
   "execution_count": 4,
   "metadata": {},
   "outputs": [],
   "source": [
    "#Classifier Performance Visual\n",
    "def visual(trueVals, predictedVals, classifierName):\n",
    "    plt.figure(figsize=(7, 7))\n",
    "    plt.scatter(trueVals, predictedVals, color = 'green')\n",
    "    plt.xlabel('True Values')\n",
    "    plt.ylabel('Predicted Values')\n",
    "    plt.grid(True)\n",
    "    \n",
    "    acc = accuracy_score(trueVals, predictedVals)\n",
    "    \n",
    "    plt.title('performance of ' + str(classifierName) + 'Accuracy %:' + str(acc*100))\n",
    "    plt.plot([0,1,2,3], [0,1,2,3], color = 'blue')\n",
    "    plt.show()  "
   ]
  },
  {
   "cell_type": "code",
   "execution_count": 5,
   "metadata": {},
   "outputs": [],
   "source": [
    "#Classification Function\n",
    "def classification(X_train, y_train,X_test,y_test, classifier):\n",
    "    scaler = StandardScaler()\n",
    "    scaler.fit(X_train)\n",
    "    X_train = scaler.transform(X_train)\n",
    "    X_test = scaler.transform(X_test)\n",
    "    classifier.fit(X_train, y_train.values.ravel())\n",
    "    y_pred = classifier.predict(X_test)\n",
    "    fig, ax = plt.subplots(figsize=(8,8))\n",
    "    plot_confusion_matrix(estimator=classifier, X=X_test, y_true=y_test, ax=ax)\n",
    "    plt.show()\n",
    "    print(classification_report(y_test, y_pred))\n",
    "    print(f'Accuracy:{round(accuracy_score(y_test,y_pred)*100, 2)}%')"
   ]
  },
  {
   "cell_type": "code",
   "execution_count": 6,
   "metadata": {},
   "outputs": [],
   "source": [
    "# Label Distribution Function\n",
    "def ratingplot(dataFrame, featureName, setName):\n",
    "    uniqueVals = set(dataFrame[featureName])\n",
    "    countArr =  []\n",
    "    \n",
    "    for mem in uniqueVals:\n",
    "        countArr.append(len(dataFrame[dataFrame[featureName] == mem]))\n",
    "    \n",
    "    plt.figure(figsize=(17, 5))\n",
    "    plt.subplot(1,2,1)\n",
    "    plt.bar(list(uniqueVals), countArr, color = 'blue')\n",
    "    plt.title(str(setName))\n",
    "    plt.grid(True)\n",
    "\n",
    "    plt.subplot(1, 2, 2)\n",
    "    plt.pie(countArr, labels = list(uniqueVals),autopct='%1.2f%%')\n",
    "    plt.title(str(setName))\n",
    "    plt.show()"
   ]
  },
  {
   "cell_type": "markdown",
   "metadata": {},
   "source": [
    "# OBTAIN"
   ]
  },
  {
   "cell_type": "code",
   "execution_count": 7,
   "metadata": {
    "scrolled": true
   },
   "outputs": [
    {
     "name": "stdout",
     "output_type": "stream",
     "text": [
      "<class 'pandas.core.frame.DataFrame'>\n",
      "RangeIndex: 500 entries, 0 to 499\n",
      "Data columns (total 34 columns):\n",
      " #   Column                    Non-Null Count  Dtype \n",
      "---  ------                    --------------  ----- \n",
      " 0   title                     500 non-null    object\n",
      " 1   console                   500 non-null    int64 \n",
      " 2   alcohol_reference         500 non-null    int64 \n",
      " 3   animated_blood            500 non-null    int64 \n",
      " 4   blood                     500 non-null    int64 \n",
      " 5   blood_and_gore            500 non-null    int64 \n",
      " 6   cartoon_violence          500 non-null    int64 \n",
      " 7   crude_humor               500 non-null    int64 \n",
      " 8   drug_reference            500 non-null    int64 \n",
      " 9   fantasy_violence          500 non-null    int64 \n",
      " 10  intense_violence          500 non-null    int64 \n",
      " 11  language                  500 non-null    int64 \n",
      " 12  lyrics                    500 non-null    int64 \n",
      " 13  mature_humor              500 non-null    int64 \n",
      " 14  mild_blood                500 non-null    int64 \n",
      " 15  mild_cartoon_violence     500 non-null    int64 \n",
      " 16  mild_fantasy_violence     500 non-null    int64 \n",
      " 17  mild_language             500 non-null    int64 \n",
      " 18  mild_lyrics               500 non-null    int64 \n",
      " 19  mild_suggestive_themes    500 non-null    int64 \n",
      " 20  mild_violence             500 non-null    int64 \n",
      " 21  no_descriptors            500 non-null    int64 \n",
      " 22  nudity                    500 non-null    int64 \n",
      " 23  partial_nudity            500 non-null    int64 \n",
      " 24  sexual_content            500 non-null    int64 \n",
      " 25  sexual_themes             500 non-null    int64 \n",
      " 26  simulated_gambling        500 non-null    int64 \n",
      " 27  strong_janguage           500 non-null    int64 \n",
      " 28  strong_sexual_content     500 non-null    int64 \n",
      " 29  suggestive_themes         500 non-null    int64 \n",
      " 30  use_of_alcohol            500 non-null    int64 \n",
      " 31  use_of_drugs_and_alcohol  500 non-null    int64 \n",
      " 32  violence                  500 non-null    int64 \n",
      " 33  esrb_rating               500 non-null    object\n",
      "dtypes: int64(32), object(2)\n",
      "memory usage: 132.9+ KB\n",
      "<class 'pandas.core.frame.DataFrame'>\n",
      "RangeIndex: 1895 entries, 0 to 1894\n",
      "Data columns (total 34 columns):\n",
      " #   Column                    Non-Null Count  Dtype \n",
      "---  ------                    --------------  ----- \n",
      " 0   title                     1895 non-null   object\n",
      " 1   console                   1895 non-null   int64 \n",
      " 2   alcohol_reference         1895 non-null   int64 \n",
      " 3   animated_blood            1895 non-null   int64 \n",
      " 4   blood                     1895 non-null   int64 \n",
      " 5   blood_and_gore            1895 non-null   int64 \n",
      " 6   cartoon_violence          1895 non-null   int64 \n",
      " 7   crude_humor               1895 non-null   int64 \n",
      " 8   drug_reference            1895 non-null   int64 \n",
      " 9   fantasy_violence          1895 non-null   int64 \n",
      " 10  intense_violence          1895 non-null   int64 \n",
      " 11  language                  1895 non-null   int64 \n",
      " 12  lyrics                    1895 non-null   int64 \n",
      " 13  mature_humor              1895 non-null   int64 \n",
      " 14  mild_blood                1895 non-null   int64 \n",
      " 15  mild_cartoon_violence     1895 non-null   int64 \n",
      " 16  mild_fantasy_violence     1895 non-null   int64 \n",
      " 17  mild_language             1895 non-null   int64 \n",
      " 18  mild_lyrics               1895 non-null   int64 \n",
      " 19  mild_suggestive_themes    1895 non-null   int64 \n",
      " 20  mild_violence             1895 non-null   int64 \n",
      " 21  no_descriptors            1895 non-null   int64 \n",
      " 22  nudity                    1895 non-null   int64 \n",
      " 23  partial_nudity            1895 non-null   int64 \n",
      " 24  sexual_content            1895 non-null   int64 \n",
      " 25  sexual_themes             1895 non-null   int64 \n",
      " 26  simulated_gambling        1895 non-null   int64 \n",
      " 27  strong_janguage           1895 non-null   int64 \n",
      " 28  strong_sexual_content     1895 non-null   int64 \n",
      " 29  suggestive_themes         1895 non-null   int64 \n",
      " 30  use_of_alcohol            1895 non-null   int64 \n",
      " 31  use_of_drugs_and_alcohol  1895 non-null   int64 \n",
      " 32  violence                  1895 non-null   int64 \n",
      " 33  esrb_rating               1895 non-null   object\n",
      "dtypes: int64(32), object(2)\n",
      "memory usage: 503.5+ KB\n"
     ]
    }
   ],
   "source": [
    "# Import/Read\n",
    "test_df = pd.read_csv('test_esrb.csv')\n",
    "test_df.info()\n",
    "\n",
    "train_df = pd.read_csv('Video_games_esrb_rating.csv')\n",
    "train_df.info()"
   ]
  },
  {
   "cell_type": "code",
   "execution_count": 8,
   "metadata": {
    "scrolled": true
   },
   "outputs": [
    {
     "name": "stdout",
     "output_type": "stream",
     "text": [
      "<class 'pandas.core.frame.DataFrame'>\n",
      "Int64Index: 2395 entries, 0 to 1894\n",
      "Data columns (total 34 columns):\n",
      " #   Column                    Non-Null Count  Dtype \n",
      "---  ------                    --------------  ----- \n",
      " 0   title                     2395 non-null   object\n",
      " 1   console                   2395 non-null   int64 \n",
      " 2   alcohol_reference         2395 non-null   int64 \n",
      " 3   animated_blood            2395 non-null   int64 \n",
      " 4   blood                     2395 non-null   int64 \n",
      " 5   blood_and_gore            2395 non-null   int64 \n",
      " 6   cartoon_violence          2395 non-null   int64 \n",
      " 7   crude_humor               2395 non-null   int64 \n",
      " 8   drug_reference            2395 non-null   int64 \n",
      " 9   fantasy_violence          2395 non-null   int64 \n",
      " 10  intense_violence          2395 non-null   int64 \n",
      " 11  language                  2395 non-null   int64 \n",
      " 12  lyrics                    2395 non-null   int64 \n",
      " 13  mature_humor              2395 non-null   int64 \n",
      " 14  mild_blood                2395 non-null   int64 \n",
      " 15  mild_cartoon_violence     2395 non-null   int64 \n",
      " 16  mild_fantasy_violence     2395 non-null   int64 \n",
      " 17  mild_language             2395 non-null   int64 \n",
      " 18  mild_lyrics               2395 non-null   int64 \n",
      " 19  mild_suggestive_themes    2395 non-null   int64 \n",
      " 20  mild_violence             2395 non-null   int64 \n",
      " 21  no_descriptors            2395 non-null   int64 \n",
      " 22  nudity                    2395 non-null   int64 \n",
      " 23  partial_nudity            2395 non-null   int64 \n",
      " 24  sexual_content            2395 non-null   int64 \n",
      " 25  sexual_themes             2395 non-null   int64 \n",
      " 26  simulated_gambling        2395 non-null   int64 \n",
      " 27  strong_janguage           2395 non-null   int64 \n",
      " 28  strong_sexual_content     2395 non-null   int64 \n",
      " 29  suggestive_themes         2395 non-null   int64 \n",
      " 30  use_of_alcohol            2395 non-null   int64 \n",
      " 31  use_of_drugs_and_alcohol  2395 non-null   int64 \n",
      " 32  violence                  2395 non-null   int64 \n",
      " 33  esrb_rating               2395 non-null   object\n",
      "dtypes: int64(32), object(2)\n",
      "memory usage: 654.9+ KB\n"
     ]
    }
   ],
   "source": [
    "#Combine the Train/Test CSVs into one\n",
    "combined_csv = test_df.append(train_df)\n",
    "combined_csv.info()\n"
   ]
  },
  {
   "cell_type": "markdown",
   "metadata": {},
   "source": [
    "# SCRUB"
   ]
  },
  {
   "cell_type": "markdown",
   "metadata": {},
   "source": [
    "- Datatypes appear correct"
   ]
  },
  {
   "cell_type": "markdown",
   "metadata": {},
   "source": [
    "## Pivot Table, Describe & Counts"
   ]
  },
  {
   "cell_type": "code",
   "execution_count": 9,
   "metadata": {
    "scrolled": true
   },
   "outputs": [
    {
     "data": {
      "text/html": [
       "<div>\n",
       "<style scoped>\n",
       "    .dataframe tbody tr th:only-of-type {\n",
       "        vertical-align: middle;\n",
       "    }\n",
       "\n",
       "    .dataframe tbody tr th {\n",
       "        vertical-align: top;\n",
       "    }\n",
       "\n",
       "    .dataframe thead th {\n",
       "        text-align: right;\n",
       "    }\n",
       "</style>\n",
       "<table border=\"1\" class=\"dataframe\">\n",
       "  <thead>\n",
       "    <tr style=\"text-align: right;\">\n",
       "      <th></th>\n",
       "      <th></th>\n",
       "      <th>alcohol_reference</th>\n",
       "      <th>animated_blood</th>\n",
       "      <th>blood</th>\n",
       "      <th>blood_and_gore</th>\n",
       "      <th>cartoon_violence</th>\n",
       "      <th>crude_humor</th>\n",
       "      <th>drug_reference</th>\n",
       "      <th>fantasy_violence</th>\n",
       "      <th>intense_violence</th>\n",
       "      <th>language</th>\n",
       "      <th>lyrics</th>\n",
       "      <th>mature_humor</th>\n",
       "      <th>mild_blood</th>\n",
       "      <th>mild_cartoon_violence</th>\n",
       "      <th>mild_fantasy_violence</th>\n",
       "      <th>mild_language</th>\n",
       "      <th>mild_lyrics</th>\n",
       "      <th>mild_suggestive_themes</th>\n",
       "      <th>mild_violence</th>\n",
       "      <th>no_descriptors</th>\n",
       "      <th>nudity</th>\n",
       "      <th>partial_nudity</th>\n",
       "      <th>sexual_content</th>\n",
       "      <th>sexual_themes</th>\n",
       "      <th>simulated_gambling</th>\n",
       "      <th>strong_janguage</th>\n",
       "      <th>strong_sexual_content</th>\n",
       "      <th>suggestive_themes</th>\n",
       "      <th>use_of_alcohol</th>\n",
       "      <th>use_of_drugs_and_alcohol</th>\n",
       "      <th>violence</th>\n",
       "    </tr>\n",
       "    <tr>\n",
       "      <th>esrb_rating</th>\n",
       "      <th>console</th>\n",
       "      <th></th>\n",
       "      <th></th>\n",
       "      <th></th>\n",
       "      <th></th>\n",
       "      <th></th>\n",
       "      <th></th>\n",
       "      <th></th>\n",
       "      <th></th>\n",
       "      <th></th>\n",
       "      <th></th>\n",
       "      <th></th>\n",
       "      <th></th>\n",
       "      <th></th>\n",
       "      <th></th>\n",
       "      <th></th>\n",
       "      <th></th>\n",
       "      <th></th>\n",
       "      <th></th>\n",
       "      <th></th>\n",
       "      <th></th>\n",
       "      <th></th>\n",
       "      <th></th>\n",
       "      <th></th>\n",
       "      <th></th>\n",
       "      <th></th>\n",
       "      <th></th>\n",
       "      <th></th>\n",
       "      <th></th>\n",
       "      <th></th>\n",
       "      <th></th>\n",
       "      <th></th>\n",
       "    </tr>\n",
       "  </thead>\n",
       "  <tbody>\n",
       "    <tr>\n",
       "      <th rowspan=\"2\" valign=\"top\">E</th>\n",
       "      <th>0</th>\n",
       "      <td>0.035857</td>\n",
       "      <td>0.000000</td>\n",
       "      <td>0.000000</td>\n",
       "      <td>0.000000</td>\n",
       "      <td>0.000000</td>\n",
       "      <td>0.003984</td>\n",
       "      <td>0.000000</td>\n",
       "      <td>0.000000</td>\n",
       "      <td>0.000000</td>\n",
       "      <td>0.000000</td>\n",
       "      <td>0.000000</td>\n",
       "      <td>0.000000</td>\n",
       "      <td>0.000000</td>\n",
       "      <td>0.031873</td>\n",
       "      <td>0.258964</td>\n",
       "      <td>0.051793</td>\n",
       "      <td>0.051793</td>\n",
       "      <td>0.000000</td>\n",
       "      <td>0.019920</td>\n",
       "      <td>0.581673</td>\n",
       "      <td>0.000000</td>\n",
       "      <td>0.000000</td>\n",
       "      <td>0.000000</td>\n",
       "      <td>0.000000</td>\n",
       "      <td>0.000000</td>\n",
       "      <td>0.000000</td>\n",
       "      <td>0.000000</td>\n",
       "      <td>0.000000</td>\n",
       "      <td>0.000000</td>\n",
       "      <td>0.000000</td>\n",
       "      <td>0.003984</td>\n",
       "    </tr>\n",
       "    <tr>\n",
       "      <th>1</th>\n",
       "      <td>0.033962</td>\n",
       "      <td>0.000000</td>\n",
       "      <td>0.000000</td>\n",
       "      <td>0.000000</td>\n",
       "      <td>0.000000</td>\n",
       "      <td>0.007547</td>\n",
       "      <td>0.000000</td>\n",
       "      <td>0.000000</td>\n",
       "      <td>0.000000</td>\n",
       "      <td>0.000000</td>\n",
       "      <td>0.000000</td>\n",
       "      <td>0.000000</td>\n",
       "      <td>0.003774</td>\n",
       "      <td>0.056604</td>\n",
       "      <td>0.139623</td>\n",
       "      <td>0.052830</td>\n",
       "      <td>0.052830</td>\n",
       "      <td>0.000000</td>\n",
       "      <td>0.011321</td>\n",
       "      <td>0.637736</td>\n",
       "      <td>0.000000</td>\n",
       "      <td>0.000000</td>\n",
       "      <td>0.000000</td>\n",
       "      <td>0.000000</td>\n",
       "      <td>0.000000</td>\n",
       "      <td>0.000000</td>\n",
       "      <td>0.000000</td>\n",
       "      <td>0.000000</td>\n",
       "      <td>0.000000</td>\n",
       "      <td>0.003774</td>\n",
       "      <td>0.000000</td>\n",
       "    </tr>\n",
       "    <tr>\n",
       "      <th rowspan=\"2\" valign=\"top\">ET</th>\n",
       "      <th>0</th>\n",
       "      <td>0.129747</td>\n",
       "      <td>0.006329</td>\n",
       "      <td>0.000000</td>\n",
       "      <td>0.000000</td>\n",
       "      <td>0.006329</td>\n",
       "      <td>0.069620</td>\n",
       "      <td>0.012658</td>\n",
       "      <td>0.715190</td>\n",
       "      <td>0.085443</td>\n",
       "      <td>0.072785</td>\n",
       "      <td>0.022152</td>\n",
       "      <td>0.009494</td>\n",
       "      <td>0.145570</td>\n",
       "      <td>0.025316</td>\n",
       "      <td>0.022152</td>\n",
       "      <td>0.037975</td>\n",
       "      <td>0.104430</td>\n",
       "      <td>0.072785</td>\n",
       "      <td>0.069620</td>\n",
       "      <td>0.037975</td>\n",
       "      <td>0.015823</td>\n",
       "      <td>0.003165</td>\n",
       "      <td>0.000000</td>\n",
       "      <td>0.000000</td>\n",
       "      <td>0.009494</td>\n",
       "      <td>0.000000</td>\n",
       "      <td>0.006329</td>\n",
       "      <td>0.075949</td>\n",
       "      <td>0.025316</td>\n",
       "      <td>0.022152</td>\n",
       "      <td>0.006329</td>\n",
       "    </tr>\n",
       "    <tr>\n",
       "      <th>1</th>\n",
       "      <td>0.061033</td>\n",
       "      <td>0.037559</td>\n",
       "      <td>0.000000</td>\n",
       "      <td>0.000000</td>\n",
       "      <td>0.117371</td>\n",
       "      <td>0.061033</td>\n",
       "      <td>0.037559</td>\n",
       "      <td>0.582160</td>\n",
       "      <td>0.084507</td>\n",
       "      <td>0.070423</td>\n",
       "      <td>0.018779</td>\n",
       "      <td>0.004695</td>\n",
       "      <td>0.093897</td>\n",
       "      <td>0.032864</td>\n",
       "      <td>0.028169</td>\n",
       "      <td>0.014085</td>\n",
       "      <td>0.112676</td>\n",
       "      <td>0.075117</td>\n",
       "      <td>0.093897</td>\n",
       "      <td>0.023474</td>\n",
       "      <td>0.004695</td>\n",
       "      <td>0.000000</td>\n",
       "      <td>0.000000</td>\n",
       "      <td>0.000000</td>\n",
       "      <td>0.004695</td>\n",
       "      <td>0.004695</td>\n",
       "      <td>0.009390</td>\n",
       "      <td>0.042254</td>\n",
       "      <td>0.018779</td>\n",
       "      <td>0.023474</td>\n",
       "      <td>0.009390</td>\n",
       "    </tr>\n",
       "    <tr>\n",
       "      <th rowspan=\"2\" valign=\"top\">M</th>\n",
       "      <th>0</th>\n",
       "      <td>0.000000</td>\n",
       "      <td>0.000000</td>\n",
       "      <td>0.436275</td>\n",
       "      <td>0.406863</td>\n",
       "      <td>0.000000</td>\n",
       "      <td>0.029412</td>\n",
       "      <td>0.053922</td>\n",
       "      <td>0.117647</td>\n",
       "      <td>0.186275</td>\n",
       "      <td>0.161765</td>\n",
       "      <td>0.063725</td>\n",
       "      <td>0.004902</td>\n",
       "      <td>0.024510</td>\n",
       "      <td>0.004902</td>\n",
       "      <td>0.004902</td>\n",
       "      <td>0.000000</td>\n",
       "      <td>0.000000</td>\n",
       "      <td>0.000000</td>\n",
       "      <td>0.004902</td>\n",
       "      <td>0.009804</td>\n",
       "      <td>0.019608</td>\n",
       "      <td>0.068627</td>\n",
       "      <td>0.112745</td>\n",
       "      <td>0.230392</td>\n",
       "      <td>0.142157</td>\n",
       "      <td>0.500000</td>\n",
       "      <td>0.142157</td>\n",
       "      <td>0.147059</td>\n",
       "      <td>0.019608</td>\n",
       "      <td>0.004902</td>\n",
       "      <td>0.078431</td>\n",
       "    </tr>\n",
       "    <tr>\n",
       "      <th>1</th>\n",
       "      <td>0.003663</td>\n",
       "      <td>0.000000</td>\n",
       "      <td>0.388278</td>\n",
       "      <td>0.578755</td>\n",
       "      <td>0.000000</td>\n",
       "      <td>0.003663</td>\n",
       "      <td>0.069597</td>\n",
       "      <td>0.095238</td>\n",
       "      <td>0.315018</td>\n",
       "      <td>0.172161</td>\n",
       "      <td>0.069597</td>\n",
       "      <td>0.007326</td>\n",
       "      <td>0.021978</td>\n",
       "      <td>0.000000</td>\n",
       "      <td>0.003663</td>\n",
       "      <td>0.000000</td>\n",
       "      <td>0.003663</td>\n",
       "      <td>0.000000</td>\n",
       "      <td>0.000000</td>\n",
       "      <td>0.007326</td>\n",
       "      <td>0.058608</td>\n",
       "      <td>0.069597</td>\n",
       "      <td>0.073260</td>\n",
       "      <td>0.117216</td>\n",
       "      <td>0.124542</td>\n",
       "      <td>0.509158</td>\n",
       "      <td>0.205128</td>\n",
       "      <td>0.139194</td>\n",
       "      <td>0.029304</td>\n",
       "      <td>0.021978</td>\n",
       "      <td>0.157509</td>\n",
       "    </tr>\n",
       "    <tr>\n",
       "      <th rowspan=\"2\" valign=\"top\">T</th>\n",
       "      <th>0</th>\n",
       "      <td>0.039916</td>\n",
       "      <td>0.010504</td>\n",
       "      <td>0.430672</td>\n",
       "      <td>0.084034</td>\n",
       "      <td>0.010504</td>\n",
       "      <td>0.048319</td>\n",
       "      <td>0.056723</td>\n",
       "      <td>0.222689</td>\n",
       "      <td>0.132353</td>\n",
       "      <td>0.195378</td>\n",
       "      <td>0.037815</td>\n",
       "      <td>0.027311</td>\n",
       "      <td>0.105042</td>\n",
       "      <td>0.014706</td>\n",
       "      <td>0.000000</td>\n",
       "      <td>0.027311</td>\n",
       "      <td>0.107143</td>\n",
       "      <td>0.081933</td>\n",
       "      <td>0.065126</td>\n",
       "      <td>0.058824</td>\n",
       "      <td>0.018908</td>\n",
       "      <td>0.027311</td>\n",
       "      <td>0.050420</td>\n",
       "      <td>0.039916</td>\n",
       "      <td>0.048319</td>\n",
       "      <td>0.008403</td>\n",
       "      <td>0.008403</td>\n",
       "      <td>0.210084</td>\n",
       "      <td>0.054622</td>\n",
       "      <td>0.044118</td>\n",
       "      <td>0.235294</td>\n",
       "    </tr>\n",
       "    <tr>\n",
       "      <th>1</th>\n",
       "      <td>0.073048</td>\n",
       "      <td>0.012594</td>\n",
       "      <td>0.387909</td>\n",
       "      <td>0.060453</td>\n",
       "      <td>0.040302</td>\n",
       "      <td>0.138539</td>\n",
       "      <td>0.032746</td>\n",
       "      <td>0.113350</td>\n",
       "      <td>0.075567</td>\n",
       "      <td>0.148615</td>\n",
       "      <td>0.055416</td>\n",
       "      <td>0.005038</td>\n",
       "      <td>0.110831</td>\n",
       "      <td>0.012594</td>\n",
       "      <td>0.007557</td>\n",
       "      <td>0.032746</td>\n",
       "      <td>0.105793</td>\n",
       "      <td>0.065491</td>\n",
       "      <td>0.055416</td>\n",
       "      <td>0.037783</td>\n",
       "      <td>0.010076</td>\n",
       "      <td>0.017632</td>\n",
       "      <td>0.020151</td>\n",
       "      <td>0.040302</td>\n",
       "      <td>0.120907</td>\n",
       "      <td>0.010076</td>\n",
       "      <td>0.000000</td>\n",
       "      <td>0.151134</td>\n",
       "      <td>0.057935</td>\n",
       "      <td>0.035264</td>\n",
       "      <td>0.249370</td>\n",
       "    </tr>\n",
       "  </tbody>\n",
       "</table>\n",
       "</div>"
      ],
      "text/plain": [
       "                     alcohol_reference  animated_blood     blood  \\\n",
       "esrb_rating console                                                \n",
       "E           0                 0.035857        0.000000  0.000000   \n",
       "            1                 0.033962        0.000000  0.000000   \n",
       "ET          0                 0.129747        0.006329  0.000000   \n",
       "            1                 0.061033        0.037559  0.000000   \n",
       "M           0                 0.000000        0.000000  0.436275   \n",
       "            1                 0.003663        0.000000  0.388278   \n",
       "T           0                 0.039916        0.010504  0.430672   \n",
       "            1                 0.073048        0.012594  0.387909   \n",
       "\n",
       "                     blood_and_gore  cartoon_violence  crude_humor  \\\n",
       "esrb_rating console                                                  \n",
       "E           0              0.000000          0.000000     0.003984   \n",
       "            1              0.000000          0.000000     0.007547   \n",
       "ET          0              0.000000          0.006329     0.069620   \n",
       "            1              0.000000          0.117371     0.061033   \n",
       "M           0              0.406863          0.000000     0.029412   \n",
       "            1              0.578755          0.000000     0.003663   \n",
       "T           0              0.084034          0.010504     0.048319   \n",
       "            1              0.060453          0.040302     0.138539   \n",
       "\n",
       "                     drug_reference  fantasy_violence  intense_violence  \\\n",
       "esrb_rating console                                                       \n",
       "E           0              0.000000          0.000000          0.000000   \n",
       "            1              0.000000          0.000000          0.000000   \n",
       "ET          0              0.012658          0.715190          0.085443   \n",
       "            1              0.037559          0.582160          0.084507   \n",
       "M           0              0.053922          0.117647          0.186275   \n",
       "            1              0.069597          0.095238          0.315018   \n",
       "T           0              0.056723          0.222689          0.132353   \n",
       "            1              0.032746          0.113350          0.075567   \n",
       "\n",
       "                     language    lyrics  mature_humor  mild_blood  \\\n",
       "esrb_rating console                                                 \n",
       "E           0        0.000000  0.000000      0.000000    0.000000   \n",
       "            1        0.000000  0.000000      0.000000    0.003774   \n",
       "ET          0        0.072785  0.022152      0.009494    0.145570   \n",
       "            1        0.070423  0.018779      0.004695    0.093897   \n",
       "M           0        0.161765  0.063725      0.004902    0.024510   \n",
       "            1        0.172161  0.069597      0.007326    0.021978   \n",
       "T           0        0.195378  0.037815      0.027311    0.105042   \n",
       "            1        0.148615  0.055416      0.005038    0.110831   \n",
       "\n",
       "                     mild_cartoon_violence  mild_fantasy_violence  \\\n",
       "esrb_rating console                                                 \n",
       "E           0                     0.031873               0.258964   \n",
       "            1                     0.056604               0.139623   \n",
       "ET          0                     0.025316               0.022152   \n",
       "            1                     0.032864               0.028169   \n",
       "M           0                     0.004902               0.004902   \n",
       "            1                     0.000000               0.003663   \n",
       "T           0                     0.014706               0.000000   \n",
       "            1                     0.012594               0.007557   \n",
       "\n",
       "                     mild_language  mild_lyrics  mild_suggestive_themes  \\\n",
       "esrb_rating console                                                       \n",
       "E           0             0.051793     0.051793                0.000000   \n",
       "            1             0.052830     0.052830                0.000000   \n",
       "ET          0             0.037975     0.104430                0.072785   \n",
       "            1             0.014085     0.112676                0.075117   \n",
       "M           0             0.000000     0.000000                0.000000   \n",
       "            1             0.000000     0.003663                0.000000   \n",
       "T           0             0.027311     0.107143                0.081933   \n",
       "            1             0.032746     0.105793                0.065491   \n",
       "\n",
       "                     mild_violence  no_descriptors    nudity  partial_nudity  \\\n",
       "esrb_rating console                                                            \n",
       "E           0             0.019920        0.581673  0.000000        0.000000   \n",
       "            1             0.011321        0.637736  0.000000        0.000000   \n",
       "ET          0             0.069620        0.037975  0.015823        0.003165   \n",
       "            1             0.093897        0.023474  0.004695        0.000000   \n",
       "M           0             0.004902        0.009804  0.019608        0.068627   \n",
       "            1             0.000000        0.007326  0.058608        0.069597   \n",
       "T           0             0.065126        0.058824  0.018908        0.027311   \n",
       "            1             0.055416        0.037783  0.010076        0.017632   \n",
       "\n",
       "                     sexual_content  sexual_themes  simulated_gambling  \\\n",
       "esrb_rating console                                                      \n",
       "E           0              0.000000       0.000000            0.000000   \n",
       "            1              0.000000       0.000000            0.000000   \n",
       "ET          0              0.000000       0.000000            0.009494   \n",
       "            1              0.000000       0.000000            0.004695   \n",
       "M           0              0.112745       0.230392            0.142157   \n",
       "            1              0.073260       0.117216            0.124542   \n",
       "T           0              0.050420       0.039916            0.048319   \n",
       "            1              0.020151       0.040302            0.120907   \n",
       "\n",
       "                     strong_janguage  strong_sexual_content  \\\n",
       "esrb_rating console                                           \n",
       "E           0               0.000000               0.000000   \n",
       "            1               0.000000               0.000000   \n",
       "ET          0               0.000000               0.006329   \n",
       "            1               0.004695               0.009390   \n",
       "M           0               0.500000               0.142157   \n",
       "            1               0.509158               0.205128   \n",
       "T           0               0.008403               0.008403   \n",
       "            1               0.010076               0.000000   \n",
       "\n",
       "                     suggestive_themes  use_of_alcohol  \\\n",
       "esrb_rating console                                      \n",
       "E           0                 0.000000        0.000000   \n",
       "            1                 0.000000        0.000000   \n",
       "ET          0                 0.075949        0.025316   \n",
       "            1                 0.042254        0.018779   \n",
       "M           0                 0.147059        0.019608   \n",
       "            1                 0.139194        0.029304   \n",
       "T           0                 0.210084        0.054622   \n",
       "            1                 0.151134        0.057935   \n",
       "\n",
       "                     use_of_drugs_and_alcohol  violence  \n",
       "esrb_rating console                                      \n",
       "E           0                        0.000000  0.003984  \n",
       "            1                        0.003774  0.000000  \n",
       "ET          0                        0.022152  0.006329  \n",
       "            1                        0.023474  0.009390  \n",
       "M           0                        0.004902  0.078431  \n",
       "            1                        0.021978  0.157509  \n",
       "T           0                        0.044118  0.235294  \n",
       "            1                        0.035264  0.249370  "
      ]
     },
     "execution_count": 9,
     "metadata": {},
     "output_type": "execute_result"
    }
   ],
   "source": [
    "#Organized table by Rating and Console\n",
    "combined_csv.pivot_table(index=[\"esrb_rating\",\"console\"])"
   ]
  },
  {
   "cell_type": "code",
   "execution_count": 10,
   "metadata": {
    "scrolled": true
   },
   "outputs": [
    {
     "data": {
      "text/html": [
       "<div>\n",
       "<style scoped>\n",
       "    .dataframe tbody tr th:only-of-type {\n",
       "        vertical-align: middle;\n",
       "    }\n",
       "\n",
       "    .dataframe tbody tr th {\n",
       "        vertical-align: top;\n",
       "    }\n",
       "\n",
       "    .dataframe thead th {\n",
       "        text-align: right;\n",
       "    }\n",
       "</style>\n",
       "<table border=\"1\" class=\"dataframe\">\n",
       "  <thead>\n",
       "    <tr style=\"text-align: right;\">\n",
       "      <th></th>\n",
       "      <th>console</th>\n",
       "      <th>alcohol_reference</th>\n",
       "      <th>animated_blood</th>\n",
       "      <th>blood</th>\n",
       "      <th>blood_and_gore</th>\n",
       "      <th>cartoon_violence</th>\n",
       "      <th>crude_humor</th>\n",
       "      <th>drug_reference</th>\n",
       "      <th>fantasy_violence</th>\n",
       "      <th>intense_violence</th>\n",
       "      <th>language</th>\n",
       "      <th>lyrics</th>\n",
       "      <th>mature_humor</th>\n",
       "      <th>mild_blood</th>\n",
       "      <th>mild_cartoon_violence</th>\n",
       "      <th>mild_fantasy_violence</th>\n",
       "      <th>mild_language</th>\n",
       "      <th>mild_lyrics</th>\n",
       "      <th>mild_suggestive_themes</th>\n",
       "      <th>mild_violence</th>\n",
       "      <th>no_descriptors</th>\n",
       "      <th>nudity</th>\n",
       "      <th>partial_nudity</th>\n",
       "      <th>sexual_content</th>\n",
       "      <th>sexual_themes</th>\n",
       "      <th>simulated_gambling</th>\n",
       "      <th>strong_janguage</th>\n",
       "      <th>strong_sexual_content</th>\n",
       "      <th>suggestive_themes</th>\n",
       "      <th>use_of_alcohol</th>\n",
       "      <th>use_of_drugs_and_alcohol</th>\n",
       "      <th>violence</th>\n",
       "    </tr>\n",
       "  </thead>\n",
       "  <tbody>\n",
       "    <tr>\n",
       "      <th>count</th>\n",
       "      <td>2395.000000</td>\n",
       "      <td>2395.000000</td>\n",
       "      <td>2395.000000</td>\n",
       "      <td>2395.000000</td>\n",
       "      <td>2395.000000</td>\n",
       "      <td>2395.000000</td>\n",
       "      <td>2395.000000</td>\n",
       "      <td>2395.000000</td>\n",
       "      <td>2395.000000</td>\n",
       "      <td>2395.000000</td>\n",
       "      <td>2395.000000</td>\n",
       "      <td>2395.000000</td>\n",
       "      <td>2395.000000</td>\n",
       "      <td>2395.000000</td>\n",
       "      <td>2395.000000</td>\n",
       "      <td>2395.000000</td>\n",
       "      <td>2395.000000</td>\n",
       "      <td>2395.000000</td>\n",
       "      <td>2395.000000</td>\n",
       "      <td>2395.000000</td>\n",
       "      <td>2395.000000</td>\n",
       "      <td>2395.000000</td>\n",
       "      <td>2395.000000</td>\n",
       "      <td>2395.000000</td>\n",
       "      <td>2395.000000</td>\n",
       "      <td>2395.000000</td>\n",
       "      <td>2395.000000</td>\n",
       "      <td>2395.000000</td>\n",
       "      <td>2395.000000</td>\n",
       "      <td>2395.00000</td>\n",
       "      <td>2395.000000</td>\n",
       "      <td>2395.000000</td>\n",
       "    </tr>\n",
       "    <tr>\n",
       "      <th>mean</th>\n",
       "      <td>0.479332</td>\n",
       "      <td>0.050522</td>\n",
       "      <td>0.008351</td>\n",
       "      <td>0.231315</td>\n",
       "      <td>0.127349</td>\n",
       "      <td>0.020042</td>\n",
       "      <td>0.051357</td>\n",
       "      <td>0.034238</td>\n",
       "      <td>0.230063</td>\n",
       "      <td>0.109395</td>\n",
       "      <td>0.112735</td>\n",
       "      <td>0.034656</td>\n",
       "      <td>0.009186</td>\n",
       "      <td>0.071816</td>\n",
       "      <td>0.021294</td>\n",
       "      <td>0.050104</td>\n",
       "      <td>0.028392</td>\n",
       "      <td>0.074322</td>\n",
       "      <td>0.043424</td>\n",
       "      <td>0.043424</td>\n",
       "      <td>0.158246</td>\n",
       "      <td>0.016284</td>\n",
       "      <td>0.022547</td>\n",
       "      <td>0.031315</td>\n",
       "      <td>0.047599</td>\n",
       "      <td>0.057620</td>\n",
       "      <td>0.104384</td>\n",
       "      <td>0.038831</td>\n",
       "      <td>0.108977</td>\n",
       "      <td>0.03048</td>\n",
       "      <td>0.022965</td>\n",
       "      <td>0.114823</td>\n",
       "    </tr>\n",
       "    <tr>\n",
       "      <th>std</th>\n",
       "      <td>0.499677</td>\n",
       "      <td>0.219065</td>\n",
       "      <td>0.091019</td>\n",
       "      <td>0.421762</td>\n",
       "      <td>0.333433</td>\n",
       "      <td>0.140172</td>\n",
       "      <td>0.220771</td>\n",
       "      <td>0.181878</td>\n",
       "      <td>0.420961</td>\n",
       "      <td>0.312199</td>\n",
       "      <td>0.316334</td>\n",
       "      <td>0.182944</td>\n",
       "      <td>0.095421</td>\n",
       "      <td>0.258237</td>\n",
       "      <td>0.144394</td>\n",
       "      <td>0.218206</td>\n",
       "      <td>0.166126</td>\n",
       "      <td>0.262348</td>\n",
       "      <td>0.203852</td>\n",
       "      <td>0.203852</td>\n",
       "      <td>0.365048</td>\n",
       "      <td>0.126592</td>\n",
       "      <td>0.148485</td>\n",
       "      <td>0.174205</td>\n",
       "      <td>0.212961</td>\n",
       "      <td>0.233072</td>\n",
       "      <td>0.305822</td>\n",
       "      <td>0.193232</td>\n",
       "      <td>0.311675</td>\n",
       "      <td>0.17194</td>\n",
       "      <td>0.149822</td>\n",
       "      <td>0.318874</td>\n",
       "    </tr>\n",
       "    <tr>\n",
       "      <th>min</th>\n",
       "      <td>0.000000</td>\n",
       "      <td>0.000000</td>\n",
       "      <td>0.000000</td>\n",
       "      <td>0.000000</td>\n",
       "      <td>0.000000</td>\n",
       "      <td>0.000000</td>\n",
       "      <td>0.000000</td>\n",
       "      <td>0.000000</td>\n",
       "      <td>0.000000</td>\n",
       "      <td>0.000000</td>\n",
       "      <td>0.000000</td>\n",
       "      <td>0.000000</td>\n",
       "      <td>0.000000</td>\n",
       "      <td>0.000000</td>\n",
       "      <td>0.000000</td>\n",
       "      <td>0.000000</td>\n",
       "      <td>0.000000</td>\n",
       "      <td>0.000000</td>\n",
       "      <td>0.000000</td>\n",
       "      <td>0.000000</td>\n",
       "      <td>0.000000</td>\n",
       "      <td>0.000000</td>\n",
       "      <td>0.000000</td>\n",
       "      <td>0.000000</td>\n",
       "      <td>0.000000</td>\n",
       "      <td>0.000000</td>\n",
       "      <td>0.000000</td>\n",
       "      <td>0.000000</td>\n",
       "      <td>0.000000</td>\n",
       "      <td>0.00000</td>\n",
       "      <td>0.000000</td>\n",
       "      <td>0.000000</td>\n",
       "    </tr>\n",
       "    <tr>\n",
       "      <th>25%</th>\n",
       "      <td>0.000000</td>\n",
       "      <td>0.000000</td>\n",
       "      <td>0.000000</td>\n",
       "      <td>0.000000</td>\n",
       "      <td>0.000000</td>\n",
       "      <td>0.000000</td>\n",
       "      <td>0.000000</td>\n",
       "      <td>0.000000</td>\n",
       "      <td>0.000000</td>\n",
       "      <td>0.000000</td>\n",
       "      <td>0.000000</td>\n",
       "      <td>0.000000</td>\n",
       "      <td>0.000000</td>\n",
       "      <td>0.000000</td>\n",
       "      <td>0.000000</td>\n",
       "      <td>0.000000</td>\n",
       "      <td>0.000000</td>\n",
       "      <td>0.000000</td>\n",
       "      <td>0.000000</td>\n",
       "      <td>0.000000</td>\n",
       "      <td>0.000000</td>\n",
       "      <td>0.000000</td>\n",
       "      <td>0.000000</td>\n",
       "      <td>0.000000</td>\n",
       "      <td>0.000000</td>\n",
       "      <td>0.000000</td>\n",
       "      <td>0.000000</td>\n",
       "      <td>0.000000</td>\n",
       "      <td>0.000000</td>\n",
       "      <td>0.00000</td>\n",
       "      <td>0.000000</td>\n",
       "      <td>0.000000</td>\n",
       "    </tr>\n",
       "    <tr>\n",
       "      <th>50%</th>\n",
       "      <td>0.000000</td>\n",
       "      <td>0.000000</td>\n",
       "      <td>0.000000</td>\n",
       "      <td>0.000000</td>\n",
       "      <td>0.000000</td>\n",
       "      <td>0.000000</td>\n",
       "      <td>0.000000</td>\n",
       "      <td>0.000000</td>\n",
       "      <td>0.000000</td>\n",
       "      <td>0.000000</td>\n",
       "      <td>0.000000</td>\n",
       "      <td>0.000000</td>\n",
       "      <td>0.000000</td>\n",
       "      <td>0.000000</td>\n",
       "      <td>0.000000</td>\n",
       "      <td>0.000000</td>\n",
       "      <td>0.000000</td>\n",
       "      <td>0.000000</td>\n",
       "      <td>0.000000</td>\n",
       "      <td>0.000000</td>\n",
       "      <td>0.000000</td>\n",
       "      <td>0.000000</td>\n",
       "      <td>0.000000</td>\n",
       "      <td>0.000000</td>\n",
       "      <td>0.000000</td>\n",
       "      <td>0.000000</td>\n",
       "      <td>0.000000</td>\n",
       "      <td>0.000000</td>\n",
       "      <td>0.000000</td>\n",
       "      <td>0.00000</td>\n",
       "      <td>0.000000</td>\n",
       "      <td>0.000000</td>\n",
       "    </tr>\n",
       "    <tr>\n",
       "      <th>75%</th>\n",
       "      <td>1.000000</td>\n",
       "      <td>0.000000</td>\n",
       "      <td>0.000000</td>\n",
       "      <td>0.000000</td>\n",
       "      <td>0.000000</td>\n",
       "      <td>0.000000</td>\n",
       "      <td>0.000000</td>\n",
       "      <td>0.000000</td>\n",
       "      <td>0.000000</td>\n",
       "      <td>0.000000</td>\n",
       "      <td>0.000000</td>\n",
       "      <td>0.000000</td>\n",
       "      <td>0.000000</td>\n",
       "      <td>0.000000</td>\n",
       "      <td>0.000000</td>\n",
       "      <td>0.000000</td>\n",
       "      <td>0.000000</td>\n",
       "      <td>0.000000</td>\n",
       "      <td>0.000000</td>\n",
       "      <td>0.000000</td>\n",
       "      <td>0.000000</td>\n",
       "      <td>0.000000</td>\n",
       "      <td>0.000000</td>\n",
       "      <td>0.000000</td>\n",
       "      <td>0.000000</td>\n",
       "      <td>0.000000</td>\n",
       "      <td>0.000000</td>\n",
       "      <td>0.000000</td>\n",
       "      <td>0.000000</td>\n",
       "      <td>0.00000</td>\n",
       "      <td>0.000000</td>\n",
       "      <td>0.000000</td>\n",
       "    </tr>\n",
       "    <tr>\n",
       "      <th>max</th>\n",
       "      <td>1.000000</td>\n",
       "      <td>1.000000</td>\n",
       "      <td>1.000000</td>\n",
       "      <td>1.000000</td>\n",
       "      <td>1.000000</td>\n",
       "      <td>1.000000</td>\n",
       "      <td>1.000000</td>\n",
       "      <td>1.000000</td>\n",
       "      <td>1.000000</td>\n",
       "      <td>1.000000</td>\n",
       "      <td>1.000000</td>\n",
       "      <td>1.000000</td>\n",
       "      <td>1.000000</td>\n",
       "      <td>1.000000</td>\n",
       "      <td>1.000000</td>\n",
       "      <td>1.000000</td>\n",
       "      <td>1.000000</td>\n",
       "      <td>1.000000</td>\n",
       "      <td>1.000000</td>\n",
       "      <td>1.000000</td>\n",
       "      <td>1.000000</td>\n",
       "      <td>1.000000</td>\n",
       "      <td>1.000000</td>\n",
       "      <td>1.000000</td>\n",
       "      <td>1.000000</td>\n",
       "      <td>1.000000</td>\n",
       "      <td>1.000000</td>\n",
       "      <td>1.000000</td>\n",
       "      <td>1.000000</td>\n",
       "      <td>1.00000</td>\n",
       "      <td>1.000000</td>\n",
       "      <td>1.000000</td>\n",
       "    </tr>\n",
       "  </tbody>\n",
       "</table>\n",
       "</div>"
      ],
      "text/plain": [
       "           console  alcohol_reference  animated_blood        blood  \\\n",
       "count  2395.000000        2395.000000     2395.000000  2395.000000   \n",
       "mean      0.479332           0.050522        0.008351     0.231315   \n",
       "std       0.499677           0.219065        0.091019     0.421762   \n",
       "min       0.000000           0.000000        0.000000     0.000000   \n",
       "25%       0.000000           0.000000        0.000000     0.000000   \n",
       "50%       0.000000           0.000000        0.000000     0.000000   \n",
       "75%       1.000000           0.000000        0.000000     0.000000   \n",
       "max       1.000000           1.000000        1.000000     1.000000   \n",
       "\n",
       "       blood_and_gore  cartoon_violence  crude_humor  drug_reference  \\\n",
       "count     2395.000000       2395.000000  2395.000000     2395.000000   \n",
       "mean         0.127349          0.020042     0.051357        0.034238   \n",
       "std          0.333433          0.140172     0.220771        0.181878   \n",
       "min          0.000000          0.000000     0.000000        0.000000   \n",
       "25%          0.000000          0.000000     0.000000        0.000000   \n",
       "50%          0.000000          0.000000     0.000000        0.000000   \n",
       "75%          0.000000          0.000000     0.000000        0.000000   \n",
       "max          1.000000          1.000000     1.000000        1.000000   \n",
       "\n",
       "       fantasy_violence  intense_violence     language       lyrics  \\\n",
       "count       2395.000000       2395.000000  2395.000000  2395.000000   \n",
       "mean           0.230063          0.109395     0.112735     0.034656   \n",
       "std            0.420961          0.312199     0.316334     0.182944   \n",
       "min            0.000000          0.000000     0.000000     0.000000   \n",
       "25%            0.000000          0.000000     0.000000     0.000000   \n",
       "50%            0.000000          0.000000     0.000000     0.000000   \n",
       "75%            0.000000          0.000000     0.000000     0.000000   \n",
       "max            1.000000          1.000000     1.000000     1.000000   \n",
       "\n",
       "       mature_humor   mild_blood  mild_cartoon_violence  \\\n",
       "count   2395.000000  2395.000000            2395.000000   \n",
       "mean       0.009186     0.071816               0.021294   \n",
       "std        0.095421     0.258237               0.144394   \n",
       "min        0.000000     0.000000               0.000000   \n",
       "25%        0.000000     0.000000               0.000000   \n",
       "50%        0.000000     0.000000               0.000000   \n",
       "75%        0.000000     0.000000               0.000000   \n",
       "max        1.000000     1.000000               1.000000   \n",
       "\n",
       "       mild_fantasy_violence  mild_language  mild_lyrics  \\\n",
       "count            2395.000000    2395.000000  2395.000000   \n",
       "mean                0.050104       0.028392     0.074322   \n",
       "std                 0.218206       0.166126     0.262348   \n",
       "min                 0.000000       0.000000     0.000000   \n",
       "25%                 0.000000       0.000000     0.000000   \n",
       "50%                 0.000000       0.000000     0.000000   \n",
       "75%                 0.000000       0.000000     0.000000   \n",
       "max                 1.000000       1.000000     1.000000   \n",
       "\n",
       "       mild_suggestive_themes  mild_violence  no_descriptors       nudity  \\\n",
       "count             2395.000000    2395.000000     2395.000000  2395.000000   \n",
       "mean                 0.043424       0.043424        0.158246     0.016284   \n",
       "std                  0.203852       0.203852        0.365048     0.126592   \n",
       "min                  0.000000       0.000000        0.000000     0.000000   \n",
       "25%                  0.000000       0.000000        0.000000     0.000000   \n",
       "50%                  0.000000       0.000000        0.000000     0.000000   \n",
       "75%                  0.000000       0.000000        0.000000     0.000000   \n",
       "max                  1.000000       1.000000        1.000000     1.000000   \n",
       "\n",
       "       partial_nudity  sexual_content  sexual_themes  simulated_gambling  \\\n",
       "count     2395.000000     2395.000000    2395.000000         2395.000000   \n",
       "mean         0.022547        0.031315       0.047599            0.057620   \n",
       "std          0.148485        0.174205       0.212961            0.233072   \n",
       "min          0.000000        0.000000       0.000000            0.000000   \n",
       "25%          0.000000        0.000000       0.000000            0.000000   \n",
       "50%          0.000000        0.000000       0.000000            0.000000   \n",
       "75%          0.000000        0.000000       0.000000            0.000000   \n",
       "max          1.000000        1.000000       1.000000            1.000000   \n",
       "\n",
       "       strong_janguage  strong_sexual_content  suggestive_themes  \\\n",
       "count      2395.000000            2395.000000        2395.000000   \n",
       "mean          0.104384               0.038831           0.108977   \n",
       "std           0.305822               0.193232           0.311675   \n",
       "min           0.000000               0.000000           0.000000   \n",
       "25%           0.000000               0.000000           0.000000   \n",
       "50%           0.000000               0.000000           0.000000   \n",
       "75%           0.000000               0.000000           0.000000   \n",
       "max           1.000000               1.000000           1.000000   \n",
       "\n",
       "       use_of_alcohol  use_of_drugs_and_alcohol     violence  \n",
       "count      2395.00000               2395.000000  2395.000000  \n",
       "mean          0.03048                  0.022965     0.114823  \n",
       "std           0.17194                  0.149822     0.318874  \n",
       "min           0.00000                  0.000000     0.000000  \n",
       "25%           0.00000                  0.000000     0.000000  \n",
       "50%           0.00000                  0.000000     0.000000  \n",
       "75%           0.00000                  0.000000     0.000000  \n",
       "max           1.00000                  1.000000     1.000000  "
      ]
     },
     "execution_count": 10,
     "metadata": {},
     "output_type": "execute_result"
    }
   ],
   "source": [
    "#Checking values\n",
    "combined_csv.describe()"
   ]
  },
  {
   "cell_type": "code",
   "execution_count": 11,
   "metadata": {
    "scrolled": true
   },
   "outputs": [
    {
     "name": "stdout",
     "output_type": "stream",
     "text": [
      "Fallen Legion: Sins of an Empire                         2\n",
      "Super GunWorld 2                                         2\n",
      "forma.8                                                  2\n",
      "INSIDE                                                   2\n",
      "88 Heroes                                                2\n",
      "                                                        ..\n",
      "Vostok Inc.                                              1\n",
      "Escape Goat 2                                            1\n",
      "RobotRiot: Hyper Edition                                 1\n",
      "The Walking Dead: Saints & Sinners - Complete Edition    1\n",
      "Pirate Flight (VR)                                       1\n",
      "Name: title, Length: 2332, dtype: int64\n",
      "0    1247\n",
      "1    1148\n",
      "Name: console, dtype: int64\n",
      "0    2274\n",
      "1     121\n",
      "Name: alcohol_reference, dtype: int64\n",
      "0    2375\n",
      "1      20\n",
      "Name: animated_blood, dtype: int64\n",
      "0    1841\n",
      "1     554\n",
      "Name: blood, dtype: int64\n",
      "0    2090\n",
      "1     305\n",
      "Name: blood_and_gore, dtype: int64\n",
      "0    2347\n",
      "1      48\n",
      "Name: cartoon_violence, dtype: int64\n",
      "0    2272\n",
      "1     123\n",
      "Name: crude_humor, dtype: int64\n",
      "0    2313\n",
      "1      82\n",
      "Name: drug_reference, dtype: int64\n",
      "0    1844\n",
      "1     551\n",
      "Name: fantasy_violence, dtype: int64\n",
      "0    2133\n",
      "1     262\n",
      "Name: intense_violence, dtype: int64\n",
      "0    2125\n",
      "1     270\n",
      "Name: language, dtype: int64\n",
      "0    2312\n",
      "1      83\n",
      "Name: lyrics, dtype: int64\n",
      "0    2373\n",
      "1      22\n",
      "Name: mature_humor, dtype: int64\n",
      "0    2223\n",
      "1     172\n",
      "Name: mild_blood, dtype: int64\n",
      "0    2344\n",
      "1      51\n",
      "Name: mild_cartoon_violence, dtype: int64\n",
      "0    2275\n",
      "1     120\n",
      "Name: mild_fantasy_violence, dtype: int64\n",
      "0    2327\n",
      "1      68\n",
      "Name: mild_language, dtype: int64\n",
      "0    2217\n",
      "1     178\n",
      "Name: mild_lyrics, dtype: int64\n",
      "0    2291\n",
      "1     104\n",
      "Name: mild_suggestive_themes, dtype: int64\n",
      "0    2291\n",
      "1     104\n",
      "Name: mild_violence, dtype: int64\n",
      "0    2016\n",
      "1     379\n",
      "Name: no_descriptors, dtype: int64\n",
      "0    2356\n",
      "1      39\n",
      "Name: nudity, dtype: int64\n",
      "0    2341\n",
      "1      54\n",
      "Name: partial_nudity, dtype: int64\n",
      "0    2320\n",
      "1      75\n",
      "Name: sexual_content, dtype: int64\n",
      "0    2281\n",
      "1     114\n",
      "Name: sexual_themes, dtype: int64\n",
      "0    2257\n",
      "1     138\n",
      "Name: simulated_gambling, dtype: int64\n",
      "0    2145\n",
      "1     250\n",
      "Name: strong_janguage, dtype: int64\n",
      "0    2302\n",
      "1      93\n",
      "Name: strong_sexual_content, dtype: int64\n",
      "0    2134\n",
      "1     261\n",
      "Name: suggestive_themes, dtype: int64\n",
      "0    2322\n",
      "1      73\n",
      "Name: use_of_alcohol, dtype: int64\n",
      "0    2340\n",
      "1      55\n",
      "Name: use_of_drugs_and_alcohol, dtype: int64\n",
      "0    2120\n",
      "1     275\n",
      "Name: violence, dtype: int64\n",
      "T     873\n",
      "ET    529\n",
      "E     516\n",
      "M     477\n",
      "Name: esrb_rating, dtype: int64\n"
     ]
    }
   ],
   "source": [
    "#Get a count of possible duplicate titles Yes/No\n",
    "for column in combined_csv:\n",
    "    print(combined_csv[column].value_counts())"
   ]
  },
  {
   "cell_type": "code",
   "execution_count": 12,
   "metadata": {},
   "outputs": [
    {
     "data": {
      "text/plain": [
       "Index(['Fallen Legion: Sins of an Empire', 'Super GunWorld 2', 'forma.8',\n",
       "       'INSIDE', '88 Heroes', 'The Inner World', 'BUTCHER',\n",
       "       'The Girl and the Robot', 'Fortnite', 'The Long Dark',\n",
       "       'Thimbleweed Park', 'BLACKHOLE: Complete Edition', 'Narcosis',\n",
       "       'Wonder Boy: The Dragon's Trap', 'Kero Blaster', 'Still Time',\n",
       "       'Double Dragon 4', 'Serial Cleaner', 'ICEY', 'Joe's Diner',\n",
       "       'Children of Zodiarcs', 'Island Flight Simulator', 'Aaero',\n",
       "       'Windjammers', 'The Metronomicon: Slay the Dance Floor',\n",
       "       'Human Fall Flat', 'Transport Giant', 'Hellblade: Senua's Sacrifice',\n",
       "       'Surf World Series', 'Elite Dangerous: Legendary Edition', 'Late Shift',\n",
       "       'Destiny 2', 'Duck Game', 'Unbox - Newbie's Adventure', 'Polybius',\n",
       "       'Pineview Drive', 'ADK DAMASHII',\n",
       "       'River City Melee: Battle Royal Special',\n",
       "       'Paranormal Activity: The Lost Soul', 'Super Comboman: Smash Edition',\n",
       "       'Jak 3', 'Momodora: Reverie Under the Moonlight',\n",
       "       'Night Trap - 25th Anniversary Edition', 'SHINY', 'Kill The Bad Guy',\n",
       "       'Jak II', 'South Park: The Stick of Truth', '>Observer_',\n",
       "       'RAID: WORLD WAR II', '3D MiniGolf', 'IRON CRYPTICLE',\n",
       "       'What Remains of Edith Finch', 'Cities: Skylines', 'Mages of Mystralia',\n",
       "       'Future Unfolding', 'Lethal League', 'Jak X: Combat Racing',\n",
       "       'Nex Machina', 'Pillars of Eternity', 'Crawl', 'Revenant Saga',\n",
       "       '2064: Read Only Memories', 'Cosmic Star Heroine'],\n",
       "      dtype='object')"
      ]
     },
     "execution_count": 12,
     "metadata": {},
     "output_type": "execute_result"
    }
   ],
   "source": [
    "pd.DataFrame(combined_csv[\"title\"].value_counts()[combined_csv[\"title\"].value_counts() > 1]).index\n",
    "#Duplicate Titles across platforms"
   ]
  },
  {
   "cell_type": "code",
   "execution_count": 13,
   "metadata": {},
   "outputs": [],
   "source": [
    "# 64 games that exist on both platforms but my function doens't catch"
   ]
  },
  {
   "cell_type": "code",
   "execution_count": 14,
   "metadata": {},
   "outputs": [
    {
     "data": {
      "text/html": [
       "<div>\n",
       "<style scoped>\n",
       "    .dataframe tbody tr th:only-of-type {\n",
       "        vertical-align: middle;\n",
       "    }\n",
       "\n",
       "    .dataframe tbody tr th {\n",
       "        vertical-align: top;\n",
       "    }\n",
       "\n",
       "    .dataframe thead th {\n",
       "        text-align: right;\n",
       "    }\n",
       "</style>\n",
       "<table border=\"1\" class=\"dataframe\">\n",
       "  <thead>\n",
       "    <tr style=\"text-align: right;\">\n",
       "      <th></th>\n",
       "      <th>title</th>\n",
       "      <th>console</th>\n",
       "      <th>alcohol_reference</th>\n",
       "      <th>animated_blood</th>\n",
       "      <th>blood</th>\n",
       "      <th>blood_and_gore</th>\n",
       "      <th>cartoon_violence</th>\n",
       "      <th>crude_humor</th>\n",
       "      <th>drug_reference</th>\n",
       "      <th>fantasy_violence</th>\n",
       "      <th>intense_violence</th>\n",
       "      <th>language</th>\n",
       "      <th>lyrics</th>\n",
       "      <th>mature_humor</th>\n",
       "      <th>mild_blood</th>\n",
       "      <th>mild_cartoon_violence</th>\n",
       "      <th>mild_fantasy_violence</th>\n",
       "      <th>mild_language</th>\n",
       "      <th>mild_lyrics</th>\n",
       "      <th>mild_suggestive_themes</th>\n",
       "      <th>mild_violence</th>\n",
       "      <th>no_descriptors</th>\n",
       "      <th>nudity</th>\n",
       "      <th>partial_nudity</th>\n",
       "      <th>sexual_content</th>\n",
       "      <th>sexual_themes</th>\n",
       "      <th>simulated_gambling</th>\n",
       "      <th>strong_janguage</th>\n",
       "      <th>strong_sexual_content</th>\n",
       "      <th>suggestive_themes</th>\n",
       "      <th>use_of_alcohol</th>\n",
       "      <th>use_of_drugs_and_alcohol</th>\n",
       "      <th>violence</th>\n",
       "      <th>esrb_rating</th>\n",
       "    </tr>\n",
       "  </thead>\n",
       "  <tbody>\n",
       "    <tr>\n",
       "      <th>16</th>\n",
       "      <td>South Park: The Stick of Truth</td>\n",
       "      <td>1</td>\n",
       "      <td>0</td>\n",
       "      <td>0</td>\n",
       "      <td>0</td>\n",
       "      <td>1</td>\n",
       "      <td>0</td>\n",
       "      <td>0</td>\n",
       "      <td>0</td>\n",
       "      <td>1</td>\n",
       "      <td>0</td>\n",
       "      <td>0</td>\n",
       "      <td>0</td>\n",
       "      <td>0</td>\n",
       "      <td>1</td>\n",
       "      <td>0</td>\n",
       "      <td>0</td>\n",
       "      <td>0</td>\n",
       "      <td>0</td>\n",
       "      <td>0</td>\n",
       "      <td>0</td>\n",
       "      <td>0</td>\n",
       "      <td>1</td>\n",
       "      <td>0</td>\n",
       "      <td>0</td>\n",
       "      <td>0</td>\n",
       "      <td>0</td>\n",
       "      <td>1</td>\n",
       "      <td>1</td>\n",
       "      <td>0</td>\n",
       "      <td>0</td>\n",
       "      <td>0</td>\n",
       "      <td>0</td>\n",
       "      <td>M</td>\n",
       "    </tr>\n",
       "    <tr>\n",
       "      <th>1514</th>\n",
       "      <td>South Park: The Stick of Truth</td>\n",
       "      <td>1</td>\n",
       "      <td>0</td>\n",
       "      <td>0</td>\n",
       "      <td>0</td>\n",
       "      <td>1</td>\n",
       "      <td>0</td>\n",
       "      <td>0</td>\n",
       "      <td>1</td>\n",
       "      <td>0</td>\n",
       "      <td>0</td>\n",
       "      <td>0</td>\n",
       "      <td>0</td>\n",
       "      <td>0</td>\n",
       "      <td>1</td>\n",
       "      <td>0</td>\n",
       "      <td>0</td>\n",
       "      <td>0</td>\n",
       "      <td>0</td>\n",
       "      <td>0</td>\n",
       "      <td>0</td>\n",
       "      <td>0</td>\n",
       "      <td>0</td>\n",
       "      <td>1</td>\n",
       "      <td>0</td>\n",
       "      <td>0</td>\n",
       "      <td>0</td>\n",
       "      <td>1</td>\n",
       "      <td>0</td>\n",
       "      <td>0</td>\n",
       "      <td>0</td>\n",
       "      <td>0</td>\n",
       "      <td>0</td>\n",
       "      <td>M</td>\n",
       "    </tr>\n",
       "  </tbody>\n",
       "</table>\n",
       "</div>"
      ],
      "text/plain": [
       "                               title  console  alcohol_reference  \\\n",
       "16    South Park: The Stick of Truth        1                  0   \n",
       "1514  South Park: The Stick of Truth        1                  0   \n",
       "\n",
       "      animated_blood  blood  blood_and_gore  cartoon_violence  crude_humor  \\\n",
       "16                 0      0               1                 0            0   \n",
       "1514               0      0               1                 0            0   \n",
       "\n",
       "      drug_reference  fantasy_violence  intense_violence  language  lyrics  \\\n",
       "16                 0                 1                 0         0       0   \n",
       "1514               1                 0                 0         0       0   \n",
       "\n",
       "      mature_humor  mild_blood  mild_cartoon_violence  mild_fantasy_violence  \\\n",
       "16               0           1                      0                      0   \n",
       "1514             0           1                      0                      0   \n",
       "\n",
       "      mild_language  mild_lyrics  mild_suggestive_themes  mild_violence  \\\n",
       "16                0            0                       0              0   \n",
       "1514              0            0                       0              0   \n",
       "\n",
       "      no_descriptors  nudity  partial_nudity  sexual_content  sexual_themes  \\\n",
       "16                 0       1               0               0              0   \n",
       "1514               0       0               1               0              0   \n",
       "\n",
       "      simulated_gambling  strong_janguage  strong_sexual_content  \\\n",
       "16                     0                1                      1   \n",
       "1514                   0                1                      0   \n",
       "\n",
       "      suggestive_themes  use_of_alcohol  use_of_drugs_and_alcohol  violence  \\\n",
       "16                    0               0                         0         0   \n",
       "1514                  0               0                         0         0   \n",
       "\n",
       "     esrb_rating  \n",
       "16             M  \n",
       "1514           M  "
      ]
     },
     "execution_count": 14,
     "metadata": {},
     "output_type": "execute_result"
    }
   ],
   "source": [
    "combined_csv[combined_csv['title']==\"South Park: The Stick of Truth\"]\n",
    "#Variables don't match for the same game/sometimes same console"
   ]
  },
  {
   "cell_type": "markdown",
   "metadata": {},
   "source": [
    "# EXPLORE"
   ]
  },
  {
   "cell_type": "markdown",
   "metadata": {},
   "source": [
    "## EDA by Platform"
   ]
  },
  {
   "cell_type": "code",
   "execution_count": 15,
   "metadata": {},
   "outputs": [
    {
     "data": {
      "image/png": "[encoded data removed]",
      "text/plain": [
       "<Figure size 1296x432 with 2 Axes>"
      ]
     },
     "metadata": {
      "needs_background": "light"
     },
     "output_type": "display_data"
    }
   ],
   "source": [
    "# Plotting distribution of gaming platforms (Combined set)\n",
    "\n",
    "psExclusives = len(combined_csv[ combined_csv['console'] == 0 ])\n",
    "xboxExclusives = len(combined_csv[ combined_csv['console'] == 1 ])\n",
    "availableOnBoth = len(combined_csv[ combined_csv['console'] == 2 ])\n",
    "other =len(combined_csv[ combined_csv['console'] == 3 ])\n",
    "\n",
    "nameList = ['Playstation Exclusives', 'Xbox Exclusives', 'Available on both', 'Others']\n",
    "nameValues = [psExclusives, xboxExclusives, availableOnBoth, other]\n",
    "\n",
    "plt.figure(figsize=(18, 6))\n",
    "plt.subplot(1,2,1)\n",
    "plt.bar(nameList, nameValues, color = 'blue')\n",
    "plt.title('Game distribution per Platform [Combined set]')\n",
    "plt.grid(True)\n",
    "\n",
    "plt.subplot(1, 2, 2)\n",
    "plt.pie(nameValues, labels=nameList, autopct=lambda p : '{:.2f}%  ({:,.0f})'.format(p,p * sum(nameValues)/100))\n",
    "plt.title('Game Distribution by Platform [Combined set]')\n",
    "plt.show()"
   ]
  },
  {
   "cell_type": "markdown",
   "metadata": {},
   "source": [
    "### EDA Platform Summary\n",
    "- Appears to show no games available on both, however we do see later that 64 titles are shared between both.\n",
    "- Function needs fixing"
   ]
  },
  {
   "cell_type": "markdown",
   "metadata": {},
   "source": [
    "## EDA by Rating"
   ]
  },
  {
   "cell_type": "code",
   "execution_count": 16,
   "metadata": {},
   "outputs": [
    {
     "data": {
      "image/png": "[encoded data removed]",
      "text/plain": [
       "<Figure size 1224x360 with 2 Axes>"
      ]
     },
     "metadata": {
      "needs_background": "light"
     },
     "output_type": "display_data"
    }
   ],
   "source": [
    "ratingplot(combined_csv, 'esrb_rating', 'Rating [Combined Set]')"
   ]
  },
  {
   "cell_type": "markdown",
   "metadata": {},
   "source": [
    "### EDA Rating Summary\n",
    "- 4 Ratings Present\n",
    "    - Everyone\n",
    "    - Everyone 10+\n",
    "    - Teen\n",
    "    - Mature"
   ]
  },
  {
   "cell_type": "markdown",
   "metadata": {},
   "source": [
    "## Correlation"
   ]
  },
  {
   "cell_type": "code",
   "execution_count": 17,
   "metadata": {},
   "outputs": [],
   "source": [
    "# One Hot Encoding Ratings\n",
    "mapp = { 'E' : 0,\n",
    "          'ET': 1,\n",
    "          'T' : 2,\n",
    "          'M' : 3,}\n",
    "\n",
    "combined_csv['esrb_rating'] = combined_csv['esrb_rating'].map(mapp)"
   ]
  },
  {
   "cell_type": "code",
   "execution_count": 18,
   "metadata": {},
   "outputs": [],
   "source": [
    "subjective_corr = combined_csv.corr()\n",
    "subjective_corr[np.abs(subjective_corr)<.2]=0\n",
    "mask = np.zeros_like(subjective_corr, dtype=np.bool)\n",
    "mask[np.triu_indices_from(mask)] = True"
   ]
  },
  {
   "cell_type": "code",
   "execution_count": 19,
   "metadata": {
    "scrolled": false
   },
   "outputs": [
    {
     "data": {
      "image/png": "[encoded data removed]",
      "text/plain": [
       "<Figure size 1800x1440 with 2 Axes>"
      ]
     },
     "metadata": {
      "needs_background": "light"
     },
     "output_type": "display_data"
    }
   ],
   "source": [
    "fig, ax = plt.subplots(figsize=(25,20))\n",
    "corr = combined_csv.corr().abs().round(3)\n",
    "sb.heatmap(corr, annot=True,ax=ax, mask=mask)\n",
    "plt.setp(ax.get_xticklabels(), \n",
    "         rotation=45, \n",
    "         ha=\"right\",\n",
    "         rotation_mode=\"anchor\")\n",
    "ax.set_title('Correlations')\n",
    "set_frameon(ax, True)\n",
    "fig.tight_layout()"
   ]
  },
  {
   "cell_type": "markdown",
   "metadata": {},
   "source": [
    "- Strongest Correlations with ESRB\n",
    "\n",
    "    -1st Line (Most impactful)\n",
    "        - 0.40-1.00\n",
    "            - Blood\n",
    "            - Blood & Gore\n",
    "            - No Descriptors (Strongest)\n",
    "            - Strong Language\n",
    "    - 2nd Line\n",
    "        - 0.20-0.39\n",
    "            - Intense Violence\n",
    "            - Language\n",
    "            - Mild Fantasy Violence\n",
    "            - Sexual Themes\n",
    "            - Simulated Gambling\n",
    "            - Strong Sexual Content\n",
    "            - Suggestive Themes\n",
    "            - Violence\n",
    "    -3rd Line\n",
    "        - 0.00-0.19\n",
    "            -Remaining Variables"
   ]
  },
  {
   "cell_type": "code",
   "execution_count": 20,
   "metadata": {},
   "outputs": [
    {
     "data": {
      "image/png": "[encoded data removed]",
      "text/plain": [
       "<Figure size 1080x1080 with 36 Axes>"
      ]
     },
     "metadata": {
      "needs_background": "light"
     },
     "output_type": "display_data"
    }
   ],
   "source": [
    "combined_csv.hist(figsize=(15,15))\n",
    "plt.tight_layout()"
   ]
  },
  {
   "cell_type": "markdown",
   "metadata": {},
   "source": [
    "# MODEL"
   ]
  },
  {
   "cell_type": "markdown",
   "metadata": {},
   "source": [
    "## Evalution Metrics"
   ]
  },
  {
   "cell_type": "markdown",
   "metadata": {},
   "source": [
    "- Ratings\n",
    "\n",
    "- F1/Recall should be the most important metrics as       you descend the rating ladder. This mainly because you don't want games that may have Mature or Teen related content to be released to a rating of E so that children or young teenagers outside the ESRB's recommended ratings do not get exposed to such content.\n",
    "\n",
    "- As the rating increases the overall metrics (for this dataset) show precisely how as more content gets added to a game increasing its rating, the lower recall, f1 and precision weigh on those ratings. If this dataset contained Ao (Adults Only) rating game content, that is when you'd want to put more emphasis on those same metrics again. You don't want a pornographic scene in a video game that would normally get rated Ao to get a rating of M. While the blowback would not be as bad as a Mature content ratred game recieving an E, it would still be bad. \n",
    "\n",
    "- TL:DR - You want stringent checking of the ratings for younger audiences, as those ratings increase with age the less importance is put on catching features and content associated with those ratings"
   ]
  },
  {
   "cell_type": "markdown",
   "metadata": {},
   "source": [
    "## Train Test Split"
   ]
  },
  {
   "cell_type": "code",
   "execution_count": 21,
   "metadata": {},
   "outputs": [],
   "source": [
    "#Train Test Split\n",
    "X = combined_csv.drop(['esrb_rating', 'title'],1)\n",
    "\n",
    "y = combined_csv[['esrb_rating']]\n",
    "\n",
    "X_train, X_test, y_train, y_test = train_test_split(X, y, test_size = 0.3, random_state = 354681)"
   ]
  },
  {
   "cell_type": "markdown",
   "metadata": {},
   "source": [
    "## Initial Model"
   ]
  },
  {
   "cell_type": "markdown",
   "metadata": {},
   "source": [
    "### Decision Tree"
   ]
  },
  {
   "cell_type": "code",
   "execution_count": 22,
   "metadata": {},
   "outputs": [
    {
     "data": {
      "text/plain": [
       "DecisionTreeClassifier()"
      ]
     },
     "execution_count": 22,
     "metadata": {},
     "output_type": "execute_result"
    }
   ],
   "source": [
    "#Fit decision tree, initial classifier, no parameters\n",
    "dtc = DecisionTreeClassifier()\n",
    "\n",
    "dtc.fit(X_train, y_train)"
   ]
  },
  {
   "cell_type": "code",
   "execution_count": 23,
   "metadata": {},
   "outputs": [
    {
     "data": {
      "text/plain": [
       "0.931980906921241"
      ]
     },
     "execution_count": 23,
     "metadata": {},
     "output_type": "execute_result"
    }
   ],
   "source": [
    "#Initial dtc training score\n",
    "dtc.score(X_train, y_train)"
   ]
  },
  {
   "cell_type": "code",
   "execution_count": 24,
   "metadata": {},
   "outputs": [
    {
     "data": {
      "text/plain": [
       "0.8581363004172462"
      ]
     },
     "execution_count": 24,
     "metadata": {},
     "output_type": "execute_result"
    }
   ],
   "source": [
    "#Initial dtc test score\n",
    "dtc.score(X_test, y_test)"
   ]
  },
  {
   "cell_type": "code",
   "execution_count": 25,
   "metadata": {
    "scrolled": true
   },
   "outputs": [
    {
     "name": "stdout",
     "output_type": "stream",
     "text": [
      "Accuracy:  0.8581363004172462\n"
     ]
    }
   ],
   "source": [
    "y_preds = dtc.predict(X_test)\n",
    "\n",
    "print('Accuracy: ', accuracy_score(y_test, y_preds))"
   ]
  },
  {
   "cell_type": "code",
   "execution_count": 26,
   "metadata": {
    "scrolled": false
   },
   "outputs": [
    {
     "data": {
      "image/png": "[encoded data removed]",
      "text/plain": [
       "<Figure size 576x576 with 2 Axes>"
      ]
     },
     "metadata": {
      "needs_background": "light"
     },
     "output_type": "display_data"
    },
    {
     "name": "stdout",
     "output_type": "stream",
     "text": [
      "              precision    recall  f1-score   support\n",
      "\n",
      "           0       0.93      0.97      0.95       161\n",
      "           1       0.78      0.87      0.82       155\n",
      "           2       0.87      0.79      0.82       271\n",
      "           3       0.87      0.87      0.87       132\n",
      "\n",
      "    accuracy                           0.86       719\n",
      "   macro avg       0.86      0.87      0.87       719\n",
      "weighted avg       0.86      0.86      0.86       719\n",
      "\n",
      "Accuracy:86.09%\n"
     ]
    }
   ],
   "source": [
    "#Confusion matrix, initial dtc classifier\n",
    "classification(\n",
    "    X_train=X_train,\n",
    "    X_test=X_test,\n",
    "    y_train=y_train,\n",
    "    y_test=y_test,\n",
    "    classifier=dtc)"
   ]
  },
  {
   "cell_type": "markdown",
   "metadata": {},
   "source": [
    "- Model on training set\n",
    "    - Numbers on the Bottom/Left indicate failure based off of recall metric to catch harmful content from falling into lower ESRB ratings\n",
    "    - Numbers on Top/Right indicate a game receiving a stricter rating than is required, while this could impact outreach and sales, questionable content is caught from lower ratings"
   ]
  },
  {
   "cell_type": "markdown",
   "metadata": {},
   "source": [
    "### KNN"
   ]
  },
  {
   "cell_type": "code",
   "execution_count": 27,
   "metadata": {},
   "outputs": [],
   "source": [
    "##Fit knn initial classifier, no parameters\n",
    "knn = KNeighborsClassifier()"
   ]
  },
  {
   "cell_type": "code",
   "execution_count": 28,
   "metadata": {
    "scrolled": false
   },
   "outputs": [
    {
     "data": {
      "image/png": "[encoded data removed]",
      "text/plain": [
       "<Figure size 576x576 with 2 Axes>"
      ]
     },
     "metadata": {
      "needs_background": "light"
     },
     "output_type": "display_data"
    },
    {
     "name": "stdout",
     "output_type": "stream",
     "text": [
      "              precision    recall  f1-score   support\n",
      "\n",
      "           0       0.85      0.98      0.91       161\n",
      "           1       0.69      0.77      0.73       155\n",
      "           2       0.80      0.70      0.75       271\n",
      "           3       0.89      0.83      0.86       132\n",
      "\n",
      "    accuracy                           0.80       719\n",
      "   macro avg       0.81      0.82      0.81       719\n",
      "weighted avg       0.81      0.80      0.80       719\n",
      "\n",
      "Accuracy:80.25%\n"
     ]
    }
   ],
   "source": [
    "#Confusion matrix, initial knn classifier\n",
    "classification(\n",
    "    X_train=X_train,\n",
    "    X_test=X_test,\n",
    "    y_train=y_train,\n",
    "    y_test=y_test,\n",
    "    classifier=knn)"
   ]
  },
  {
   "cell_type": "markdown",
   "metadata": {},
   "source": [
    "- Model on training set\n",
    "    - Numbers on the Bottom/Left indicate failure based off of recall metric to catch harmful content from falling into lower ESRB ratings\n",
    "    - Numbers on Top/Right indicate a game receiving a stricter rating than is required, while this could impact outreach and sales, questionable content is caught from lower ratings"
   ]
  },
  {
   "cell_type": "markdown",
   "metadata": {},
   "source": [
    "### Random Forest"
   ]
  },
  {
   "cell_type": "code",
   "execution_count": 29,
   "metadata": {},
   "outputs": [],
   "source": [
    "##Fit random forest initial classifier, no parameters\n",
    "rfc = RandomForestClassifier()"
   ]
  },
  {
   "cell_type": "code",
   "execution_count": 30,
   "metadata": {
    "scrolled": false
   },
   "outputs": [
    {
     "data": {
      "image/png": "[encoded data removed]",
      "text/plain": [
       "<Figure size 576x576 with 2 Axes>"
      ]
     },
     "metadata": {
      "needs_background": "light"
     },
     "output_type": "display_data"
    },
    {
     "name": "stdout",
     "output_type": "stream",
     "text": [
      "              precision    recall  f1-score   support\n",
      "\n",
      "           0       0.91      0.97      0.94       161\n",
      "           1       0.77      0.82      0.79       155\n",
      "           2       0.86      0.78      0.82       271\n",
      "           3       0.88      0.90      0.89       132\n",
      "\n",
      "    accuracy                           0.85       719\n",
      "   macro avg       0.85      0.87      0.86       719\n",
      "weighted avg       0.85      0.85      0.85       719\n",
      "\n",
      "Accuracy:85.26%\n"
     ]
    }
   ],
   "source": [
    "#Confusion matrix, initial rfc classifier\n",
    "classification(\n",
    "    X_train=X_train,\n",
    "    X_test=X_test,\n",
    "    y_train=y_train,\n",
    "    y_test=y_test,\n",
    "    classifier=rfc)"
   ]
  },
  {
   "cell_type": "markdown",
   "metadata": {},
   "source": [
    "- Model on training set\n",
    "    - Numbers on the Bottom/Left indicate failure based off of recall metric to catch harmful content from falling into lower ESRB ratings\n",
    "    - Numbers on Top/Right indicate a game receiving a stricter rating than is required, while this could impact outreach and sales, questionable content is caught from lower ratings"
   ]
  },
  {
   "cell_type": "markdown",
   "metadata": {},
   "source": [
    "- DTC              precision    recall  f1-score   support\n",
    "\n",
    "           0       0.93      0.97      0.95       161\n",
    "           1       0.78      0.87      0.82       155\n",
    "           2       0.87      0.79      0.82       271\n",
    "           3       0.87      0.87      0.87       132\n",
    "           \n",
    "           \n",
    "- KNN              precision    recall  f1-score   support\n",
    "\n",
    "           0       0.85      0.98      0.91       161\n",
    "           1       0.69      0.77      0.73       155\n",
    "           2       0.80      0.70      0.75       271\n",
    "           3       0.89      0.83      0.86       132\n",
    "           \n",
    "- RFC              precision    recall  f1-score   support\n",
    "\n",
    "           0       0.91      0.97      0.94       161\n",
    "           1       0.77      0.82      0.79       155\n",
    "           2       0.86      0.78      0.82       271\n",
    "           3       0.88      0.90      0.89       132"
   ]
  },
  {
   "cell_type": "markdown",
   "metadata": {},
   "source": [
    "- While all the models appear to perform well in the training set, lets see how it works further refined and applied to the test set"
   ]
  },
  {
   "cell_type": "markdown",
   "metadata": {},
   "source": [
    "# 1st Refined Models"
   ]
  },
  {
   "cell_type": "markdown",
   "metadata": {},
   "source": [
    "### Decision Tree Refined Model"
   ]
  },
  {
   "cell_type": "code",
   "execution_count": 31,
   "metadata": {},
   "outputs": [],
   "source": [
    "##Fit decision tree, applying parameters to refine search\n",
    "dtc_param_grid = {\n",
    "    'criterion': ['gini', 'entropy'],\n",
    "    'max_depth': [None, 2, 3, 4, 5, 6],\n",
    "    'min_samples_split': [2, 5, 10],\n",
    "    'min_samples_leaf': [1, 2, 3, 4, 5, 6]\n",
    "}"
   ]
  },
  {
   "cell_type": "code",
   "execution_count": 32,
   "metadata": {
    "scrolled": true
   },
   "outputs": [
    {
     "data": {
      "text/plain": [
       "GridSearchCV(cv=3, estimator=DecisionTreeClassifier(),\n",
       "             param_grid={'criterion': ['gini', 'entropy'],\n",
       "                         'max_depth': [None, 2, 3, 4, 5, 6],\n",
       "                         'min_samples_leaf': [1, 2, 3, 4, 5, 6],\n",
       "                         'min_samples_split': [2, 5, 10]},\n",
       "             return_train_score=True)"
      ]
     },
     "execution_count": 32,
     "metadata": {},
     "output_type": "execute_result"
    }
   ],
   "source": [
    "#GridSearchCV on DTC\n",
    "dtc_grid_search = GridSearchCV(dtc, dtc_param_grid, cv=3, return_train_score=True)\n",
    "\n",
    "dtc_grid_search.fit(X_train, y_train)"
   ]
  },
  {
   "cell_type": "code",
   "execution_count": 33,
   "metadata": {},
   "outputs": [],
   "source": [
    "#Search for best estimator\n",
    "bestdtc = dtc_grid_search.best_estimator_"
   ]
  },
  {
   "cell_type": "code",
   "execution_count": 34,
   "metadata": {
    "scrolled": false
   },
   "outputs": [
    {
     "data": {
      "image/png": "[encoded data removed]",
      "text/plain": [
       "<Figure size 576x576 with 2 Axes>"
      ]
     },
     "metadata": {
      "needs_background": "light"
     },
     "output_type": "display_data"
    },
    {
     "name": "stdout",
     "output_type": "stream",
     "text": [
      "              precision    recall  f1-score   support\n",
      "\n",
      "           0       0.93      0.98      0.95       161\n",
      "           1       0.78      0.88      0.83       155\n",
      "           2       0.86      0.79      0.82       271\n",
      "           3       0.88      0.86      0.87       132\n",
      "\n",
      "    accuracy                           0.86       719\n",
      "   macro avg       0.86      0.87      0.87       719\n",
      "weighted avg       0.86      0.86      0.86       719\n",
      "\n",
      "Accuracy:86.09%\n"
     ]
    }
   ],
   "source": [
    "#Confusion matrix\n",
    "classification(\n",
    "    X_train=X_train,\n",
    "    X_test=X_test,\n",
    "    y_train=y_train,\n",
    "    y_test=y_test,\n",
    "    classifier=bestdtc)"
   ]
  },
  {
   "cell_type": "markdown",
   "metadata": {},
   "source": [
    "- Model on training set\n",
    "    - Numbers on the Bottom/Left indicate failure based off of recall metric to catch harmful content from falling into lower ESRB ratings\n",
    "    - Numbers on Top/Right indicate a game receiving a stricter rating than is required, while this could impact outreach and sales, questionable content is caught from lower ratings"
   ]
  },
  {
   "cell_type": "code",
   "execution_count": 35,
   "metadata": {},
   "outputs": [
    {
     "data": {
      "text/plain": [
       "{'criterion': 'gini',\n",
       " 'max_depth': None,\n",
       " 'min_samples_leaf': 1,\n",
       " 'min_samples_split': 10}"
      ]
     },
     "execution_count": 35,
     "metadata": {},
     "output_type": "execute_result"
    }
   ],
   "source": [
    "#search for best parameters\n",
    "dtc_grid_search.best_params_"
   ]
  },
  {
   "cell_type": "code",
   "execution_count": 36,
   "metadata": {},
   "outputs": [
    {
     "data": {
      "text/plain": [
       "0.5159944367176634"
      ]
     },
     "execution_count": 36,
     "metadata": {},
     "output_type": "execute_result"
    }
   ],
   "source": [
    "bestdtc.score(X_test,y_test)"
   ]
  },
  {
   "cell_type": "code",
   "execution_count": 37,
   "metadata": {},
   "outputs": [
    {
     "data": {
      "text/plain": [
       "0.5155131264916468"
      ]
     },
     "execution_count": 37,
     "metadata": {},
     "output_type": "execute_result"
    }
   ],
   "source": [
    "bestdtc.score(X_train,y_train)"
   ]
  },
  {
   "cell_type": "code",
   "execution_count": 38,
   "metadata": {},
   "outputs": [
    {
     "data": {
      "text/plain": [
       "<sklearn.metrics._plot.confusion_matrix.ConfusionMatrixDisplay at 0x2212211eeb8>"
      ]
     },
     "execution_count": 38,
     "metadata": {},
     "output_type": "execute_result"
    },
    {
     "data": {
      "image/png": "[encoded data removed]",
      "text/plain": [
       "<Figure size 432x288 with 2 Axes>"
      ]
     },
     "metadata": {
      "needs_background": "light"
     },
     "output_type": "display_data"
    }
   ],
   "source": [
    "plot_confusion_matrix(estimator=bestdtc, X=X_test, y_true=y_test)"
   ]
  },
  {
   "cell_type": "markdown",
   "metadata": {},
   "source": [
    "- While DTC model appears to predict E ratings, it fails to catch 80 games that should be rated M and allow them to fall into Everyone rating\n",
    "- Model appears especially bad at catching Mature content specifically"
   ]
  },
  {
   "cell_type": "markdown",
   "metadata": {},
   "source": [
    "### KNN Refined Model"
   ]
  },
  {
   "cell_type": "code",
   "execution_count": 39,
   "metadata": {},
   "outputs": [],
   "source": [
    "#Fit knn, applying parameters to refine search\n",
    "knn_param_grid = {\n",
    "    'n_neighbors': [3,5,7],\n",
    "    'weights': ['uniform','distance'],\n",
    "    'algorithm': ['ball_tree','kd_tree','brute'],\n",
    "    'p':[1,2,3]\n",
    "}"
   ]
  },
  {
   "cell_type": "code",
   "execution_count": 40,
   "metadata": {},
   "outputs": [
    {
     "data": {
      "text/plain": [
       "GridSearchCV(cv=3, estimator=KNeighborsClassifier(),\n",
       "             param_grid={'algorithm': ['ball_tree', 'kd_tree', 'brute'],\n",
       "                         'n_neighbors': [3, 5, 7], 'p': [1, 2, 3],\n",
       "                         'weights': ['uniform', 'distance']},\n",
       "             return_train_score=True)"
      ]
     },
     "execution_count": 40,
     "metadata": {},
     "output_type": "execute_result"
    }
   ],
   "source": [
    "#GridSearch on Knn\n",
    "knn_grid_search = GridSearchCV(knn, knn_param_grid, cv=3, return_train_score=True)\n",
    "\n",
    "knn_grid_search.fit(X_train, y_train)"
   ]
  },
  {
   "cell_type": "code",
   "execution_count": 41,
   "metadata": {},
   "outputs": [],
   "source": [
    "#best estimator\n",
    "bestknn = knn_grid_search.best_estimator_"
   ]
  },
  {
   "cell_type": "code",
   "execution_count": 42,
   "metadata": {},
   "outputs": [
    {
     "data": {
      "image/png": "[encoded data removed]",
      "text/plain": [
       "<Figure size 576x576 with 2 Axes>"
      ]
     },
     "metadata": {
      "needs_background": "light"
     },
     "output_type": "display_data"
    },
    {
     "name": "stdout",
     "output_type": "stream",
     "text": [
      "              precision    recall  f1-score   support\n",
      "\n",
      "           0       0.91      0.96      0.94       161\n",
      "           1       0.72      0.83      0.77       155\n",
      "           2       0.84      0.73      0.78       271\n",
      "           3       0.85      0.88      0.87       132\n",
      "\n",
      "    accuracy                           0.83       719\n",
      "   macro avg       0.83      0.85      0.84       719\n",
      "weighted avg       0.83      0.83      0.83       719\n",
      "\n",
      "Accuracy:83.17%\n"
     ]
    }
   ],
   "source": [
    "#Knn confusion matrix\n",
    "classification(\n",
    "    X_train=X_train,\n",
    "    X_test=X_test,\n",
    "    y_train=y_train,\n",
    "    y_test=y_test,\n",
    "    classifier=bestknn)"
   ]
  },
  {
   "cell_type": "markdown",
   "metadata": {},
   "source": [
    "- Model on training set\n",
    "    - Numbers on the Bottom/Left indicate failure based off of recall metric to catch harmful content from falling into lower ESRB ratings\n",
    "    - Numbers on Top/Right indicate a game receiving a stricter rating than is required, while this could impact outreach and sales, questionable content is caught from lower ratings"
   ]
  },
  {
   "cell_type": "code",
   "execution_count": 43,
   "metadata": {},
   "outputs": [
    {
     "data": {
      "text/plain": [
       "{'algorithm': 'brute', 'n_neighbors': 5, 'p': 1, 'weights': 'distance'}"
      ]
     },
     "execution_count": 43,
     "metadata": {},
     "output_type": "execute_result"
    }
   ],
   "source": [
    "#search for best parameters\n",
    "knn_grid_search.best_params_"
   ]
  },
  {
   "cell_type": "code",
   "execution_count": 44,
   "metadata": {},
   "outputs": [
    {
     "data": {
      "text/plain": [
       "0.5104311543810849"
      ]
     },
     "execution_count": 44,
     "metadata": {},
     "output_type": "execute_result"
    }
   ],
   "source": [
    "#knn model test score\n",
    "bestknn.score(X_test,y_test)"
   ]
  },
  {
   "cell_type": "code",
   "execution_count": 45,
   "metadata": {},
   "outputs": [
    {
     "data": {
      "text/plain": [
       "0.5184964200477327"
      ]
     },
     "execution_count": 45,
     "metadata": {},
     "output_type": "execute_result"
    }
   ],
   "source": [
    "#knn model training score\n",
    "bestknn.score(X_train,y_train)"
   ]
  },
  {
   "cell_type": "code",
   "execution_count": 46,
   "metadata": {},
   "outputs": [
    {
     "data": {
      "text/plain": [
       "<sklearn.metrics._plot.confusion_matrix.ConfusionMatrixDisplay at 0x221215bd278>"
      ]
     },
     "execution_count": 46,
     "metadata": {},
     "output_type": "execute_result"
    },
    {
     "data": {
      "image/png": "[encoded data removed]",
      "text/plain": [
       "<Figure size 432x288 with 2 Axes>"
      ]
     },
     "metadata": {
      "needs_background": "light"
     },
     "output_type": "display_data"
    }
   ],
   "source": [
    "#confusion matrix results for trained data against test\n",
    "plot_confusion_matrix(estimator=bestknn, X=X_test, y_true=y_test)"
   ]
  },
  {
   "cell_type": "markdown",
   "metadata": {},
   "source": [
    "- While KNN model appears to predict E ratings, it fails to catch 80 games that should be rated M and allow them to fall into Everyone rating\n",
    "- Model appears especially bad at catching Mature content also"
   ]
  },
  {
   "cell_type": "markdown",
   "metadata": {},
   "source": [
    "### Random Forest Refined"
   ]
  },
  {
   "cell_type": "code",
   "execution_count": 47,
   "metadata": {},
   "outputs": [],
   "source": [
    "##Fit random forest, applying parameters to refine search\n",
    "rfc_param_grid = {\n",
    "    'n_estimators': [50,100],\n",
    "    'criterion': ['gini','entropy'],\n",
    "    'max_depth': [None,3, 5, 7],\n",
    "    'min_samples_split': [1, 2, 4, 6],\n",
    "    'min_samples_leaf': [1,2,3],\n",
    "    'max_features': [None,'sqrt','log2'],\n",
    "    'random_state': [7],\n",
    "    \n",
    "}"
   ]
  },
  {
   "cell_type": "code",
   "execution_count": 48,
   "metadata": {
    "scrolled": true
   },
   "outputs": [
    {
     "data": {
      "text/plain": [
       "GridSearchCV(cv=3, estimator=RandomForestClassifier(), n_jobs=10,\n",
       "             param_grid={'criterion': ['gini', 'entropy'],\n",
       "                         'max_depth': [None, 3, 5, 7],\n",
       "                         'max_features': [None, 'sqrt', 'log2'],\n",
       "                         'min_samples_leaf': [1, 2, 3],\n",
       "                         'min_samples_split': [1, 2, 4, 6],\n",
       "                         'n_estimators': [50, 100], 'random_state': [7]},\n",
       "             return_train_score=True)"
      ]
     },
     "execution_count": 48,
     "metadata": {},
     "output_type": "execute_result"
    }
   ],
   "source": [
    "#Gridsearch on rfc\n",
    "rfc_grid_search = GridSearchCV(rfc, rfc_param_grid, cv=3,n_jobs=10, return_train_score=True)\n",
    "\n",
    "rfc_grid_search.fit(X_train, y_train)"
   ]
  },
  {
   "cell_type": "code",
   "execution_count": 49,
   "metadata": {},
   "outputs": [],
   "source": [
    "#best estimator\n",
    "bestrfc = rfc_grid_search.best_estimator_"
   ]
  },
  {
   "cell_type": "code",
   "execution_count": 50,
   "metadata": {},
   "outputs": [
    {
     "data": {
      "image/png": "[encoded data removed]",
      "text/plain": [
       "<Figure size 576x576 with 2 Axes>"
      ]
     },
     "metadata": {
      "needs_background": "light"
     },
     "output_type": "display_data"
    },
    {
     "name": "stdout",
     "output_type": "stream",
     "text": [
      "              precision    recall  f1-score   support\n",
      "\n",
      "           0       0.90      0.97      0.93       161\n",
      "           1       0.78      0.84      0.81       155\n",
      "           2       0.87      0.79      0.83       271\n",
      "           3       0.89      0.90      0.89       132\n",
      "\n",
      "    accuracy                           0.86       719\n",
      "   macro avg       0.86      0.87      0.87       719\n",
      "weighted avg       0.86      0.86      0.86       719\n",
      "\n",
      "Accuracy:85.95%\n"
     ]
    }
   ],
   "source": [
    "#rfc confusion matrix\n",
    "classification(\n",
    "    X_train=X_train,\n",
    "    X_test=X_test,\n",
    "    y_train=y_train,\n",
    "    y_test=y_test,\n",
    "    classifier=bestrfc)"
   ]
  },
  {
   "cell_type": "markdown",
   "metadata": {},
   "source": [
    "- Model on training set\n",
    "    - Numbers on the Bottom/Left indicate failure based off of recall metric to catch harmful content from falling into lower ESRB ratings\n",
    "    - Numbers on Top/Right indicate a game receiving a stricter rating than is required, while this could impact outreach and sales, questionable content is caught from lower ratings"
   ]
  },
  {
   "cell_type": "code",
   "execution_count": 51,
   "metadata": {},
   "outputs": [
    {
     "data": {
      "text/plain": [
       "{'criterion': 'gini',\n",
       " 'max_depth': None,\n",
       " 'max_features': 'sqrt',\n",
       " 'min_samples_leaf': 1,\n",
       " 'min_samples_split': 2,\n",
       " 'n_estimators': 100,\n",
       " 'random_state': 7}"
      ]
     },
     "execution_count": 51,
     "metadata": {},
     "output_type": "execute_result"
    }
   ],
   "source": [
    "#best parameter\n",
    "rfc_grid_search.best_params_"
   ]
  },
  {
   "cell_type": "code",
   "execution_count": 52,
   "metadata": {},
   "outputs": [
    {
     "data": {
      "text/plain": [
       "0.5159944367176634"
      ]
     },
     "execution_count": 52,
     "metadata": {},
     "output_type": "execute_result"
    }
   ],
   "source": [
    "#rfc model test score\n",
    "bestrfc.score(X_test,y_test)"
   ]
  },
  {
   "cell_type": "code",
   "execution_count": 53,
   "metadata": {},
   "outputs": [
    {
     "data": {
      "text/plain": [
       "0.5095465393794749"
      ]
     },
     "execution_count": 53,
     "metadata": {},
     "output_type": "execute_result"
    }
   ],
   "source": [
    "#rfc model training score\n",
    "bestrfc.score(X_train,y_train)"
   ]
  },
  {
   "cell_type": "code",
   "execution_count": 54,
   "metadata": {},
   "outputs": [
    {
     "data": {
      "text/plain": [
       "<sklearn.metrics._plot.confusion_matrix.ConfusionMatrixDisplay at 0x221223afd68>"
      ]
     },
     "execution_count": 54,
     "metadata": {},
     "output_type": "execute_result"
    },
    {
     "data": {
      "image/png": "[encoded data removed]",
      "text/plain": [
       "<Figure size 432x288 with 2 Axes>"
      ]
     },
     "metadata": {
      "needs_background": "light"
     },
     "output_type": "display_data"
    }
   ],
   "source": [
    "#confusion matrix results for trained data against test\n",
    "plot_confusion_matrix(estimator=bestrfc, X=X_test, y_true=y_test)"
   ]
  },
  {
   "cell_type": "markdown",
   "metadata": {},
   "source": [
    "- While RFC model appears to predict E ratings, it fails to catch 80 games that should be rated M and allow them to fall into Everyone rating\n",
    "- Model appears especially bad at catching Mature content specifically"
   ]
  },
  {
   "cell_type": "markdown",
   "metadata": {},
   "source": [
    "# 2nd Refined Models"
   ]
  },
  {
   "cell_type": "markdown",
   "metadata": {},
   "source": [
    "### Decision Tree Refined"
   ]
  },
  {
   "cell_type": "code",
   "execution_count": 55,
   "metadata": {},
   "outputs": [],
   "source": [
    "##Fit decision tree, applying parameters to refine search\n",
    "dtc_para_grid = {\n",
    "    'criterion': 'gini',\n",
    "    'max_depth': None,\n",
    "    'min_samples_leaf': 1,\n",
    "    'min_samples_split': 2\n",
    "}"
   ]
  },
  {
   "cell_type": "code",
   "execution_count": 56,
   "metadata": {},
   "outputs": [],
   "source": [
    "#Search for best estimator\n",
    "bestdtc = dtc_grid_search.best_estimator_"
   ]
  },
  {
   "cell_type": "code",
   "execution_count": 57,
   "metadata": {},
   "outputs": [
    {
     "data": {
      "text/plain": [
       "GridSearchCV(cv=3, estimator=DecisionTreeClassifier(),\n",
       "             param_grid={'criterion': ['gini', 'entropy'],\n",
       "                         'max_depth': [None, 2, 3, 4, 5, 6],\n",
       "                         'min_samples_leaf': [1, 2, 3, 4, 5, 6],\n",
       "                         'min_samples_split': [2, 5, 10]},\n",
       "             return_train_score=True)"
      ]
     },
     "execution_count": 57,
     "metadata": {},
     "output_type": "execute_result"
    }
   ],
   "source": [
    "#GridSearchCV on DTC\n",
    "dtc_grid_search = GridSearchCV(dtc, dtc_param_grid, cv=3, return_train_score=True)\n",
    "\n",
    "dtc_grid_search.fit(X_train, y_train)"
   ]
  },
  {
   "cell_type": "code",
   "execution_count": 58,
   "metadata": {},
   "outputs": [
    {
     "data": {
      "image/png": "[encoded data removed]",
      "text/plain": [
       "<Figure size 576x576 with 2 Axes>"
      ]
     },
     "metadata": {
      "needs_background": "light"
     },
     "output_type": "display_data"
    },
    {
     "name": "stdout",
     "output_type": "stream",
     "text": [
      "              precision    recall  f1-score   support\n",
      "\n",
      "           0       0.93      0.98      0.95       161\n",
      "           1       0.78      0.88      0.83       155\n",
      "           2       0.86      0.79      0.82       271\n",
      "           3       0.87      0.86      0.86       132\n",
      "\n",
      "    accuracy                           0.86       719\n",
      "   macro avg       0.86      0.87      0.87       719\n",
      "weighted avg       0.86      0.86      0.86       719\n",
      "\n",
      "Accuracy:86.09%\n"
     ]
    }
   ],
   "source": [
    "#Confusion matrix\n",
    "classification(\n",
    "    X_train=X_train,\n",
    "    X_test=X_test,\n",
    "    y_train=y_train,\n",
    "    y_test=y_test,\n",
    "    classifier=bestdtc)"
   ]
  },
  {
   "cell_type": "markdown",
   "metadata": {},
   "source": [
    "- Model on training set\n",
    "    - Numbers on the Bottom/Left indicate failure based off of recall metric to catch harmful content from falling into lower ESRB ratings\n",
    "    - Numbers on Top/Right indicate a game receiving a stricter rating than is required, while this could impact outreach and sales, questionable content is caught from lower ratings"
   ]
  },
  {
   "cell_type": "code",
   "execution_count": 59,
   "metadata": {},
   "outputs": [
    {
     "data": {
      "text/plain": [
       "0.5159944367176634"
      ]
     },
     "execution_count": 59,
     "metadata": {},
     "output_type": "execute_result"
    }
   ],
   "source": [
    "#dtc model test score\n",
    "bestdtc.score(X_test,y_test)"
   ]
  },
  {
   "cell_type": "code",
   "execution_count": 60,
   "metadata": {},
   "outputs": [
    {
     "data": {
      "text/plain": [
       "0.5155131264916468"
      ]
     },
     "execution_count": 60,
     "metadata": {},
     "output_type": "execute_result"
    }
   ],
   "source": [
    "#dtc model training score\n",
    "bestdtc.score(X_train,y_train)"
   ]
  },
  {
   "cell_type": "code",
   "execution_count": 61,
   "metadata": {},
   "outputs": [
    {
     "data": {
      "text/plain": [
       "<sklearn.metrics._plot.confusion_matrix.ConfusionMatrixDisplay at 0x221245e5160>"
      ]
     },
     "execution_count": 61,
     "metadata": {},
     "output_type": "execute_result"
    },
    {
     "data": {
      "image/png": "[encoded data removed]",
      "text/plain": [
       "<Figure size 432x288 with 2 Axes>"
      ]
     },
     "metadata": {
      "needs_background": "light"
     },
     "output_type": "display_data"
    }
   ],
   "source": [
    "#confusion matrix results for trained data against test\n",
    "plot_confusion_matrix(estimator=bestdtc, X=X_test, y_true=y_test)"
   ]
  },
  {
   "cell_type": "markdown",
   "metadata": {},
   "source": [
    "### KNN Refined Model"
   ]
  },
  {
   "cell_type": "code",
   "execution_count": 62,
   "metadata": {},
   "outputs": [],
   "source": [
    "##Fit knn, applying parameters to refine search\n",
    "knn_para_grid = {\n",
    "    'algorithm': 'brute',\n",
    "    'n_neighbors': 5,\n",
    "    'p': 1,\n",
    "    'weights': 'distance'\n",
    "}"
   ]
  },
  {
   "cell_type": "code",
   "execution_count": 63,
   "metadata": {},
   "outputs": [
    {
     "data": {
      "text/plain": [
       "GridSearchCV(cv=3, estimator=KNeighborsClassifier(),\n",
       "             param_grid={'algorithm': ['ball_tree', 'kd_tree', 'brute'],\n",
       "                         'n_neighbors': [3, 5, 7], 'p': [1, 2, 3],\n",
       "                         'weights': ['uniform', 'distance']},\n",
       "             return_train_score=True)"
      ]
     },
     "execution_count": 63,
     "metadata": {},
     "output_type": "execute_result"
    }
   ],
   "source": [
    "#GridSearch on Knn\n",
    "knn_grid_search = GridSearchCV(knn, knn_param_grid, cv=3, return_train_score=True)\n",
    "\n",
    "knn_grid_search.fit(X_train, y_train)"
   ]
  },
  {
   "cell_type": "code",
   "execution_count": 64,
   "metadata": {},
   "outputs": [],
   "source": [
    "#Search for best estimator\n",
    "bestknn = dtc_grid_search.best_estimator_"
   ]
  },
  {
   "cell_type": "code",
   "execution_count": 65,
   "metadata": {},
   "outputs": [
    {
     "data": {
      "image/png": "[encoded data removed]",
      "text/plain": [
       "<Figure size 576x576 with 2 Axes>"
      ]
     },
     "metadata": {
      "needs_background": "light"
     },
     "output_type": "display_data"
    },
    {
     "name": "stdout",
     "output_type": "stream",
     "text": [
      "              precision    recall  f1-score   support\n",
      "\n",
      "           0       0.93      0.97      0.95       161\n",
      "           1       0.78      0.86      0.82       155\n",
      "           2       0.86      0.79      0.82       271\n",
      "           3       0.87      0.86      0.86       132\n",
      "\n",
      "    accuracy                           0.86       719\n",
      "   macro avg       0.86      0.87      0.86       719\n",
      "weighted avg       0.86      0.86      0.86       719\n",
      "\n",
      "Accuracy:85.95%\n"
     ]
    }
   ],
   "source": [
    "#Knn confusion matrix\n",
    "classification(\n",
    "    X_train=X_train,\n",
    "    X_test=X_test,\n",
    "    y_train=y_train,\n",
    "    y_test=y_test,\n",
    "    classifier=bestknn)"
   ]
  },
  {
   "cell_type": "markdown",
   "metadata": {},
   "source": [
    "- Model on training set\n",
    "    - Numbers on the Bottom/Left indicate failure based off of recall metric to catch harmful content from falling into lower ESRB ratings\n",
    "    - Numbers on Top/Right indicate a game receiving a stricter rating than is required, while this could impact outreach and sales, questionable content is caught from lower ratings"
   ]
  },
  {
   "cell_type": "code",
   "execution_count": 66,
   "metadata": {},
   "outputs": [
    {
     "data": {
      "text/plain": [
       "0.5159944367176634"
      ]
     },
     "execution_count": 66,
     "metadata": {},
     "output_type": "execute_result"
    }
   ],
   "source": [
    "#rfc model test score\n",
    "bestrfc.score(X_test,y_test)"
   ]
  },
  {
   "cell_type": "code",
   "execution_count": 67,
   "metadata": {},
   "outputs": [
    {
     "data": {
      "text/plain": [
       "0.5095465393794749"
      ]
     },
     "execution_count": 67,
     "metadata": {},
     "output_type": "execute_result"
    }
   ],
   "source": [
    "#rfc model training score\n",
    "bestrfc.score(X_train,y_train)"
   ]
  },
  {
   "cell_type": "code",
   "execution_count": 68,
   "metadata": {},
   "outputs": [
    {
     "data": {
      "text/plain": [
       "<sklearn.metrics._plot.confusion_matrix.ConfusionMatrixDisplay at 0x2212250c630>"
      ]
     },
     "execution_count": 68,
     "metadata": {},
     "output_type": "execute_result"
    },
    {
     "data": {
      "image/png": "[encoded data removed]",
      "text/plain": [
       "<Figure size 432x288 with 2 Axes>"
      ]
     },
     "metadata": {
      "needs_background": "light"
     },
     "output_type": "display_data"
    }
   ],
   "source": [
    "#confusion matrix results for trained data against test\n",
    "plot_confusion_matrix(estimator=bestknn, X=X_test, y_true=y_test)"
   ]
  },
  {
   "cell_type": "markdown",
   "metadata": {},
   "source": [
    "### Random Forest Refined"
   ]
  },
  {
   "cell_type": "code",
   "execution_count": 69,
   "metadata": {},
   "outputs": [],
   "source": [
    "##Fit rfc, applying parameters to refine search\n",
    "rfc_para_grid = {\n",
    "    'criterion':'gini',\n",
    "    'max_depth':None,\n",
    "    'max_features':'sqrt',\n",
    "    'min_samples_leaf':1,\n",
    "    'min_samples_split':2,\n",
    "    'n_estimators':100,\n",
    "    'random_state':7\n",
    "}"
   ]
  },
  {
   "cell_type": "code",
   "execution_count": 70,
   "metadata": {},
   "outputs": [
    {
     "data": {
      "text/plain": [
       "GridSearchCV(cv=3, estimator=RandomForestClassifier(), n_jobs=10,\n",
       "             param_grid={'criterion': ['gini', 'entropy'],\n",
       "                         'max_depth': [None, 3, 5, 7],\n",
       "                         'max_features': [None, 'sqrt', 'log2'],\n",
       "                         'min_samples_leaf': [1, 2, 3],\n",
       "                         'min_samples_split': [1, 2, 4, 6],\n",
       "                         'n_estimators': [50, 100], 'random_state': [7]},\n",
       "             return_train_score=True)"
      ]
     },
     "execution_count": 70,
     "metadata": {},
     "output_type": "execute_result"
    }
   ],
   "source": [
    "#GridSearch on rfc\n",
    "rfc_grid_search = GridSearchCV(rfc, rfc_param_grid, cv=3,n_jobs=10, return_train_score=True)\n",
    "\n",
    "rfc_grid_search.fit(X_train, y_train)"
   ]
  },
  {
   "cell_type": "code",
   "execution_count": 71,
   "metadata": {},
   "outputs": [],
   "source": [
    "#best estimator\n",
    "bestrfc = rfc_grid_search.best_estimator_"
   ]
  },
  {
   "cell_type": "code",
   "execution_count": 72,
   "metadata": {},
   "outputs": [
    {
     "data": {
      "image/png": "[encoded data removed]",
      "text/plain": [
       "<Figure size 576x576 with 2 Axes>"
      ]
     },
     "metadata": {
      "needs_background": "light"
     },
     "output_type": "display_data"
    },
    {
     "name": "stdout",
     "output_type": "stream",
     "text": [
      "              precision    recall  f1-score   support\n",
      "\n",
      "           0       0.90      0.97      0.93       161\n",
      "           1       0.78      0.84      0.81       155\n",
      "           2       0.87      0.79      0.83       271\n",
      "           3       0.89      0.90      0.89       132\n",
      "\n",
      "    accuracy                           0.86       719\n",
      "   macro avg       0.86      0.87      0.87       719\n",
      "weighted avg       0.86      0.86      0.86       719\n",
      "\n",
      "Accuracy:85.95%\n"
     ]
    }
   ],
   "source": [
    "#rfc confusion matrix\n",
    "classification(\n",
    "    X_train=X_train,\n",
    "    X_test=X_test,\n",
    "    y_train=y_train,\n",
    "    y_test=y_test,\n",
    "    classifier=bestrfc)"
   ]
  },
  {
   "cell_type": "markdown",
   "metadata": {},
   "source": [
    "- Model on training set\n",
    "    - Numbers on the Bottom/Left indicate failure based off of recall metric to catch harmful content from falling into lower ESRB ratings\n",
    "    - Numbers on Top/Right indicate a game receiving a stricter rating than is required, while this could impact outreach and sales, questionable content is caught from lower ratings"
   ]
  },
  {
   "cell_type": "code",
   "execution_count": 73,
   "metadata": {},
   "outputs": [
    {
     "data": {
      "text/plain": [
       "0.5159944367176634"
      ]
     },
     "execution_count": 73,
     "metadata": {},
     "output_type": "execute_result"
    }
   ],
   "source": [
    "#rfc model test score\n",
    "bestrfc.score(X_test,y_test)"
   ]
  },
  {
   "cell_type": "code",
   "execution_count": 74,
   "metadata": {},
   "outputs": [
    {
     "data": {
      "text/plain": [
       "0.5095465393794749"
      ]
     },
     "execution_count": 74,
     "metadata": {},
     "output_type": "execute_result"
    }
   ],
   "source": [
    "#rfc model training score\n",
    "bestrfc.score(X_train,y_train)"
   ]
  },
  {
   "cell_type": "code",
   "execution_count": 75,
   "metadata": {},
   "outputs": [
    {
     "data": {
      "text/plain": [
       "<sklearn.metrics._plot.confusion_matrix.ConfusionMatrixDisplay at 0x221246065f8>"
      ]
     },
     "execution_count": 75,
     "metadata": {},
     "output_type": "execute_result"
    },
    {
     "data": {
      "image/png": "[encoded data removed]",
      "text/plain": [
       "<Figure size 432x288 with 2 Axes>"
      ]
     },
     "metadata": {
      "needs_background": "light"
     },
     "output_type": "display_data"
    }
   ],
   "source": [
    "#confusion matrix results for trained data against test\n",
    "plot_confusion_matrix(estimator=bestrfc, X=X_test, y_true=y_test)"
   ]
  },
  {
   "cell_type": "markdown",
   "metadata": {},
   "source": [
    "# INTERPRET"
   ]
  },
  {
   "cell_type": "markdown",
   "metadata": {},
   "source": [
    "## Decision Tree Feature Importances"
   ]
  },
  {
   "cell_type": "code",
   "execution_count": 76,
   "metadata": {},
   "outputs": [
    {
     "data": {
      "text/plain": [
       "array([0.02537175, 0.01280372, 0.01072433, 0.05492109, 0.06868421,\n",
       "       0.00710797, 0.02014096, 0.01593053, 0.10087101, 0.01808551,\n",
       "       0.03178803, 0.01265793, 0.00553587, 0.03153401, 0.00048856,\n",
       "       0.06633802, 0.00990032, 0.01706852, 0.01694165, 0.01733027,\n",
       "       0.15212641, 0.00296415, 0.00405114, 0.0077832 , 0.0226928 ,\n",
       "       0.02413545, 0.14266418, 0.02148094, 0.032611  , 0.01695717,\n",
       "       0.00413412, 0.02417519])"
      ]
     },
     "execution_count": 76,
     "metadata": {},
     "output_type": "execute_result"
    }
   ],
   "source": [
    "#What features carry the most weight\n",
    "dtc.feature_importances_"
   ]
  },
  {
   "cell_type": "code",
   "execution_count": 77,
   "metadata": {},
   "outputs": [
    {
     "data": {
      "text/html": [
       "<div>\n",
       "<style scoped>\n",
       "    .dataframe tbody tr th:only-of-type {\n",
       "        vertical-align: middle;\n",
       "    }\n",
       "\n",
       "    .dataframe tbody tr th {\n",
       "        vertical-align: top;\n",
       "    }\n",
       "\n",
       "    .dataframe thead th {\n",
       "        text-align: right;\n",
       "    }\n",
       "</style>\n",
       "<table border=\"1\" class=\"dataframe\">\n",
       "  <thead>\n",
       "    <tr style=\"text-align: right;\">\n",
       "      <th></th>\n",
       "      <th>feature</th>\n",
       "      <th>importance</th>\n",
       "    </tr>\n",
       "  </thead>\n",
       "  <tbody>\n",
       "    <tr>\n",
       "      <th>14</th>\n",
       "      <td>mild_cartoon_violence</td>\n",
       "      <td>0.000489</td>\n",
       "    </tr>\n",
       "    <tr>\n",
       "      <th>21</th>\n",
       "      <td>nudity</td>\n",
       "      <td>0.002964</td>\n",
       "    </tr>\n",
       "    <tr>\n",
       "      <th>22</th>\n",
       "      <td>partial_nudity</td>\n",
       "      <td>0.004051</td>\n",
       "    </tr>\n",
       "    <tr>\n",
       "      <th>30</th>\n",
       "      <td>use_of_drugs_and_alcohol</td>\n",
       "      <td>0.004134</td>\n",
       "    </tr>\n",
       "    <tr>\n",
       "      <th>12</th>\n",
       "      <td>mature_humor</td>\n",
       "      <td>0.005536</td>\n",
       "    </tr>\n",
       "    <tr>\n",
       "      <th>5</th>\n",
       "      <td>cartoon_violence</td>\n",
       "      <td>0.007108</td>\n",
       "    </tr>\n",
       "    <tr>\n",
       "      <th>23</th>\n",
       "      <td>sexual_content</td>\n",
       "      <td>0.007783</td>\n",
       "    </tr>\n",
       "    <tr>\n",
       "      <th>16</th>\n",
       "      <td>mild_language</td>\n",
       "      <td>0.009900</td>\n",
       "    </tr>\n",
       "    <tr>\n",
       "      <th>2</th>\n",
       "      <td>animated_blood</td>\n",
       "      <td>0.010724</td>\n",
       "    </tr>\n",
       "    <tr>\n",
       "      <th>11</th>\n",
       "      <td>lyrics</td>\n",
       "      <td>0.012658</td>\n",
       "    </tr>\n",
       "    <tr>\n",
       "      <th>1</th>\n",
       "      <td>alcohol_reference</td>\n",
       "      <td>0.012804</td>\n",
       "    </tr>\n",
       "    <tr>\n",
       "      <th>7</th>\n",
       "      <td>drug_reference</td>\n",
       "      <td>0.015931</td>\n",
       "    </tr>\n",
       "    <tr>\n",
       "      <th>18</th>\n",
       "      <td>mild_suggestive_themes</td>\n",
       "      <td>0.016942</td>\n",
       "    </tr>\n",
       "    <tr>\n",
       "      <th>29</th>\n",
       "      <td>use_of_alcohol</td>\n",
       "      <td>0.016957</td>\n",
       "    </tr>\n",
       "    <tr>\n",
       "      <th>17</th>\n",
       "      <td>mild_lyrics</td>\n",
       "      <td>0.017069</td>\n",
       "    </tr>\n",
       "    <tr>\n",
       "      <th>19</th>\n",
       "      <td>mild_violence</td>\n",
       "      <td>0.017330</td>\n",
       "    </tr>\n",
       "    <tr>\n",
       "      <th>9</th>\n",
       "      <td>intense_violence</td>\n",
       "      <td>0.018086</td>\n",
       "    </tr>\n",
       "    <tr>\n",
       "      <th>6</th>\n",
       "      <td>crude_humor</td>\n",
       "      <td>0.020141</td>\n",
       "    </tr>\n",
       "    <tr>\n",
       "      <th>27</th>\n",
       "      <td>strong_sexual_content</td>\n",
       "      <td>0.021481</td>\n",
       "    </tr>\n",
       "    <tr>\n",
       "      <th>24</th>\n",
       "      <td>sexual_themes</td>\n",
       "      <td>0.022693</td>\n",
       "    </tr>\n",
       "    <tr>\n",
       "      <th>25</th>\n",
       "      <td>simulated_gambling</td>\n",
       "      <td>0.024135</td>\n",
       "    </tr>\n",
       "    <tr>\n",
       "      <th>31</th>\n",
       "      <td>violence</td>\n",
       "      <td>0.024175</td>\n",
       "    </tr>\n",
       "    <tr>\n",
       "      <th>0</th>\n",
       "      <td>console</td>\n",
       "      <td>0.025372</td>\n",
       "    </tr>\n",
       "    <tr>\n",
       "      <th>13</th>\n",
       "      <td>mild_blood</td>\n",
       "      <td>0.031534</td>\n",
       "    </tr>\n",
       "    <tr>\n",
       "      <th>10</th>\n",
       "      <td>language</td>\n",
       "      <td>0.031788</td>\n",
       "    </tr>\n",
       "    <tr>\n",
       "      <th>28</th>\n",
       "      <td>suggestive_themes</td>\n",
       "      <td>0.032611</td>\n",
       "    </tr>\n",
       "    <tr>\n",
       "      <th>3</th>\n",
       "      <td>blood</td>\n",
       "      <td>0.054921</td>\n",
       "    </tr>\n",
       "    <tr>\n",
       "      <th>15</th>\n",
       "      <td>mild_fantasy_violence</td>\n",
       "      <td>0.066338</td>\n",
       "    </tr>\n",
       "    <tr>\n",
       "      <th>4</th>\n",
       "      <td>blood_and_gore</td>\n",
       "      <td>0.068684</td>\n",
       "    </tr>\n",
       "    <tr>\n",
       "      <th>8</th>\n",
       "      <td>fantasy_violence</td>\n",
       "      <td>0.100871</td>\n",
       "    </tr>\n",
       "    <tr>\n",
       "      <th>26</th>\n",
       "      <td>strong_janguage</td>\n",
       "      <td>0.142664</td>\n",
       "    </tr>\n",
       "    <tr>\n",
       "      <th>20</th>\n",
       "      <td>no_descriptors</td>\n",
       "      <td>0.152126</td>\n",
       "    </tr>\n",
       "  </tbody>\n",
       "</table>\n",
       "</div>"
      ],
      "text/plain": [
       "                     feature  importance\n",
       "14     mild_cartoon_violence    0.000489\n",
       "21                    nudity    0.002964\n",
       "22            partial_nudity    0.004051\n",
       "30  use_of_drugs_and_alcohol    0.004134\n",
       "12              mature_humor    0.005536\n",
       "5           cartoon_violence    0.007108\n",
       "23            sexual_content    0.007783\n",
       "16             mild_language    0.009900\n",
       "2             animated_blood    0.010724\n",
       "11                    lyrics    0.012658\n",
       "1          alcohol_reference    0.012804\n",
       "7             drug_reference    0.015931\n",
       "18    mild_suggestive_themes    0.016942\n",
       "29            use_of_alcohol    0.016957\n",
       "17               mild_lyrics    0.017069\n",
       "19             mild_violence    0.017330\n",
       "9           intense_violence    0.018086\n",
       "6                crude_humor    0.020141\n",
       "27     strong_sexual_content    0.021481\n",
       "24             sexual_themes    0.022693\n",
       "25        simulated_gambling    0.024135\n",
       "31                  violence    0.024175\n",
       "0                    console    0.025372\n",
       "13                mild_blood    0.031534\n",
       "10                  language    0.031788\n",
       "28         suggestive_themes    0.032611\n",
       "3                      blood    0.054921\n",
       "15     mild_fantasy_violence    0.066338\n",
       "4             blood_and_gore    0.068684\n",
       "8           fantasy_violence    0.100871\n",
       "26           strong_janguage    0.142664\n",
       "20            no_descriptors    0.152126"
      ]
     },
     "execution_count": 77,
     "metadata": {},
     "output_type": "execute_result"
    }
   ],
   "source": [
    "Feature_Importances=pd.DataFrame({\"feature\":X_train.columns,\"importance\":dtc.feature_importances_})\n",
    "Feature_Importances.sort_values(\"importance\")"
   ]
  },
  {
   "cell_type": "markdown",
   "metadata": {},
   "source": [
    "## KNN Feature Importances"
   ]
  },
  {
   "cell_type": "code",
   "execution_count": 78,
   "metadata": {},
   "outputs": [
    {
     "data": {
      "text/plain": [
       "array([0.02537175, 0.01280372, 0.01072433, 0.05492109, 0.06868421,\n",
       "       0.00710797, 0.02014096, 0.01593053, 0.10087101, 0.01808551,\n",
       "       0.03178803, 0.01265793, 0.00553587, 0.03153401, 0.00048856,\n",
       "       0.06633802, 0.00990032, 0.01706852, 0.01694165, 0.01733027,\n",
       "       0.15212641, 0.00296415, 0.00405114, 0.0077832 , 0.0226928 ,\n",
       "       0.02413545, 0.14266418, 0.02148094, 0.032611  , 0.01695717,\n",
       "       0.00413412, 0.02417519])"
      ]
     },
     "execution_count": 78,
     "metadata": {},
     "output_type": "execute_result"
    }
   ],
   "source": [
    "#What features carry the most weight\n",
    "dtc.feature_importances_"
   ]
  },
  {
   "cell_type": "code",
   "execution_count": 79,
   "metadata": {},
   "outputs": [
    {
     "data": {
      "text/html": [
       "<div>\n",
       "<style scoped>\n",
       "    .dataframe tbody tr th:only-of-type {\n",
       "        vertical-align: middle;\n",
       "    }\n",
       "\n",
       "    .dataframe tbody tr th {\n",
       "        vertical-align: top;\n",
       "    }\n",
       "\n",
       "    .dataframe thead th {\n",
       "        text-align: right;\n",
       "    }\n",
       "</style>\n",
       "<table border=\"1\" class=\"dataframe\">\n",
       "  <thead>\n",
       "    <tr style=\"text-align: right;\">\n",
       "      <th></th>\n",
       "      <th>feature</th>\n",
       "      <th>importance</th>\n",
       "    </tr>\n",
       "  </thead>\n",
       "  <tbody>\n",
       "    <tr>\n",
       "      <th>14</th>\n",
       "      <td>mild_cartoon_violence</td>\n",
       "      <td>0.000489</td>\n",
       "    </tr>\n",
       "    <tr>\n",
       "      <th>21</th>\n",
       "      <td>nudity</td>\n",
       "      <td>0.002964</td>\n",
       "    </tr>\n",
       "    <tr>\n",
       "      <th>22</th>\n",
       "      <td>partial_nudity</td>\n",
       "      <td>0.004051</td>\n",
       "    </tr>\n",
       "    <tr>\n",
       "      <th>30</th>\n",
       "      <td>use_of_drugs_and_alcohol</td>\n",
       "      <td>0.004134</td>\n",
       "    </tr>\n",
       "    <tr>\n",
       "      <th>12</th>\n",
       "      <td>mature_humor</td>\n",
       "      <td>0.005536</td>\n",
       "    </tr>\n",
       "    <tr>\n",
       "      <th>5</th>\n",
       "      <td>cartoon_violence</td>\n",
       "      <td>0.007108</td>\n",
       "    </tr>\n",
       "    <tr>\n",
       "      <th>23</th>\n",
       "      <td>sexual_content</td>\n",
       "      <td>0.007783</td>\n",
       "    </tr>\n",
       "    <tr>\n",
       "      <th>16</th>\n",
       "      <td>mild_language</td>\n",
       "      <td>0.009900</td>\n",
       "    </tr>\n",
       "    <tr>\n",
       "      <th>2</th>\n",
       "      <td>animated_blood</td>\n",
       "      <td>0.010724</td>\n",
       "    </tr>\n",
       "    <tr>\n",
       "      <th>11</th>\n",
       "      <td>lyrics</td>\n",
       "      <td>0.012658</td>\n",
       "    </tr>\n",
       "    <tr>\n",
       "      <th>1</th>\n",
       "      <td>alcohol_reference</td>\n",
       "      <td>0.012804</td>\n",
       "    </tr>\n",
       "    <tr>\n",
       "      <th>7</th>\n",
       "      <td>drug_reference</td>\n",
       "      <td>0.015931</td>\n",
       "    </tr>\n",
       "    <tr>\n",
       "      <th>18</th>\n",
       "      <td>mild_suggestive_themes</td>\n",
       "      <td>0.016942</td>\n",
       "    </tr>\n",
       "    <tr>\n",
       "      <th>29</th>\n",
       "      <td>use_of_alcohol</td>\n",
       "      <td>0.016957</td>\n",
       "    </tr>\n",
       "    <tr>\n",
       "      <th>17</th>\n",
       "      <td>mild_lyrics</td>\n",
       "      <td>0.017069</td>\n",
       "    </tr>\n",
       "    <tr>\n",
       "      <th>19</th>\n",
       "      <td>mild_violence</td>\n",
       "      <td>0.017330</td>\n",
       "    </tr>\n",
       "    <tr>\n",
       "      <th>9</th>\n",
       "      <td>intense_violence</td>\n",
       "      <td>0.018086</td>\n",
       "    </tr>\n",
       "    <tr>\n",
       "      <th>6</th>\n",
       "      <td>crude_humor</td>\n",
       "      <td>0.020141</td>\n",
       "    </tr>\n",
       "    <tr>\n",
       "      <th>27</th>\n",
       "      <td>strong_sexual_content</td>\n",
       "      <td>0.021481</td>\n",
       "    </tr>\n",
       "    <tr>\n",
       "      <th>24</th>\n",
       "      <td>sexual_themes</td>\n",
       "      <td>0.022693</td>\n",
       "    </tr>\n",
       "    <tr>\n",
       "      <th>25</th>\n",
       "      <td>simulated_gambling</td>\n",
       "      <td>0.024135</td>\n",
       "    </tr>\n",
       "    <tr>\n",
       "      <th>31</th>\n",
       "      <td>violence</td>\n",
       "      <td>0.024175</td>\n",
       "    </tr>\n",
       "    <tr>\n",
       "      <th>0</th>\n",
       "      <td>console</td>\n",
       "      <td>0.025372</td>\n",
       "    </tr>\n",
       "    <tr>\n",
       "      <th>13</th>\n",
       "      <td>mild_blood</td>\n",
       "      <td>0.031534</td>\n",
       "    </tr>\n",
       "    <tr>\n",
       "      <th>10</th>\n",
       "      <td>language</td>\n",
       "      <td>0.031788</td>\n",
       "    </tr>\n",
       "    <tr>\n",
       "      <th>28</th>\n",
       "      <td>suggestive_themes</td>\n",
       "      <td>0.032611</td>\n",
       "    </tr>\n",
       "    <tr>\n",
       "      <th>3</th>\n",
       "      <td>blood</td>\n",
       "      <td>0.054921</td>\n",
       "    </tr>\n",
       "    <tr>\n",
       "      <th>15</th>\n",
       "      <td>mild_fantasy_violence</td>\n",
       "      <td>0.066338</td>\n",
       "    </tr>\n",
       "    <tr>\n",
       "      <th>4</th>\n",
       "      <td>blood_and_gore</td>\n",
       "      <td>0.068684</td>\n",
       "    </tr>\n",
       "    <tr>\n",
       "      <th>8</th>\n",
       "      <td>fantasy_violence</td>\n",
       "      <td>0.100871</td>\n",
       "    </tr>\n",
       "    <tr>\n",
       "      <th>26</th>\n",
       "      <td>strong_janguage</td>\n",
       "      <td>0.142664</td>\n",
       "    </tr>\n",
       "    <tr>\n",
       "      <th>20</th>\n",
       "      <td>no_descriptors</td>\n",
       "      <td>0.152126</td>\n",
       "    </tr>\n",
       "  </tbody>\n",
       "</table>\n",
       "</div>"
      ],
      "text/plain": [
       "                     feature  importance\n",
       "14     mild_cartoon_violence    0.000489\n",
       "21                    nudity    0.002964\n",
       "22            partial_nudity    0.004051\n",
       "30  use_of_drugs_and_alcohol    0.004134\n",
       "12              mature_humor    0.005536\n",
       "5           cartoon_violence    0.007108\n",
       "23            sexual_content    0.007783\n",
       "16             mild_language    0.009900\n",
       "2             animated_blood    0.010724\n",
       "11                    lyrics    0.012658\n",
       "1          alcohol_reference    0.012804\n",
       "7             drug_reference    0.015931\n",
       "18    mild_suggestive_themes    0.016942\n",
       "29            use_of_alcohol    0.016957\n",
       "17               mild_lyrics    0.017069\n",
       "19             mild_violence    0.017330\n",
       "9           intense_violence    0.018086\n",
       "6                crude_humor    0.020141\n",
       "27     strong_sexual_content    0.021481\n",
       "24             sexual_themes    0.022693\n",
       "25        simulated_gambling    0.024135\n",
       "31                  violence    0.024175\n",
       "0                    console    0.025372\n",
       "13                mild_blood    0.031534\n",
       "10                  language    0.031788\n",
       "28         suggestive_themes    0.032611\n",
       "3                      blood    0.054921\n",
       "15     mild_fantasy_violence    0.066338\n",
       "4             blood_and_gore    0.068684\n",
       "8           fantasy_violence    0.100871\n",
       "26           strong_janguage    0.142664\n",
       "20            no_descriptors    0.152126"
      ]
     },
     "execution_count": 79,
     "metadata": {},
     "output_type": "execute_result"
    }
   ],
   "source": [
    "Feature_Importances=pd.DataFrame({\"feature\":X_train.columns,\"importance\":dtc.feature_importances_})\n",
    "Feature_Importances.sort_values(\"importance\")"
   ]
  },
  {
   "cell_type": "markdown",
   "metadata": {},
   "source": [
    "## Random Forest Feature Importances"
   ]
  },
  {
   "cell_type": "code",
   "execution_count": 80,
   "metadata": {},
   "outputs": [
    {
     "data": {
      "text/plain": [
       "array([0.02671553, 0.01828376, 0.00817347, 0.09287252, 0.07360193,\n",
       "       0.01298346, 0.02424739, 0.01106978, 0.09901206, 0.02418134,\n",
       "       0.0348763 , 0.01214438, 0.00442509, 0.02680786, 0.00849877,\n",
       "       0.03821454, 0.00953375, 0.01672961, 0.01702313, 0.02000359,\n",
       "       0.1173749 , 0.0055094 , 0.00794411, 0.01057594, 0.02230883,\n",
       "       0.02220032, 0.11677282, 0.02799993, 0.03142656, 0.01445484,\n",
       "       0.00642951, 0.03760456])"
      ]
     },
     "execution_count": 80,
     "metadata": {},
     "output_type": "execute_result"
    }
   ],
   "source": [
    "#What features carry the most weight\n",
    "rfc.feature_importances_"
   ]
  },
  {
   "cell_type": "code",
   "execution_count": 81,
   "metadata": {},
   "outputs": [
    {
     "data": {
      "text/html": [
       "<div>\n",
       "<style scoped>\n",
       "    .dataframe tbody tr th:only-of-type {\n",
       "        vertical-align: middle;\n",
       "    }\n",
       "\n",
       "    .dataframe tbody tr th {\n",
       "        vertical-align: top;\n",
       "    }\n",
       "\n",
       "    .dataframe thead th {\n",
       "        text-align: right;\n",
       "    }\n",
       "</style>\n",
       "<table border=\"1\" class=\"dataframe\">\n",
       "  <thead>\n",
       "    <tr style=\"text-align: right;\">\n",
       "      <th></th>\n",
       "      <th>feature</th>\n",
       "      <th>importance</th>\n",
       "    </tr>\n",
       "  </thead>\n",
       "  <tbody>\n",
       "    <tr>\n",
       "      <th>12</th>\n",
       "      <td>mature_humor</td>\n",
       "      <td>0.004425</td>\n",
       "    </tr>\n",
       "    <tr>\n",
       "      <th>21</th>\n",
       "      <td>nudity</td>\n",
       "      <td>0.005509</td>\n",
       "    </tr>\n",
       "    <tr>\n",
       "      <th>30</th>\n",
       "      <td>use_of_drugs_and_alcohol</td>\n",
       "      <td>0.006430</td>\n",
       "    </tr>\n",
       "    <tr>\n",
       "      <th>22</th>\n",
       "      <td>partial_nudity</td>\n",
       "      <td>0.007944</td>\n",
       "    </tr>\n",
       "    <tr>\n",
       "      <th>2</th>\n",
       "      <td>animated_blood</td>\n",
       "      <td>0.008173</td>\n",
       "    </tr>\n",
       "    <tr>\n",
       "      <th>14</th>\n",
       "      <td>mild_cartoon_violence</td>\n",
       "      <td>0.008499</td>\n",
       "    </tr>\n",
       "    <tr>\n",
       "      <th>16</th>\n",
       "      <td>mild_language</td>\n",
       "      <td>0.009534</td>\n",
       "    </tr>\n",
       "    <tr>\n",
       "      <th>23</th>\n",
       "      <td>sexual_content</td>\n",
       "      <td>0.010576</td>\n",
       "    </tr>\n",
       "    <tr>\n",
       "      <th>7</th>\n",
       "      <td>drug_reference</td>\n",
       "      <td>0.011070</td>\n",
       "    </tr>\n",
       "    <tr>\n",
       "      <th>11</th>\n",
       "      <td>lyrics</td>\n",
       "      <td>0.012144</td>\n",
       "    </tr>\n",
       "    <tr>\n",
       "      <th>5</th>\n",
       "      <td>cartoon_violence</td>\n",
       "      <td>0.012983</td>\n",
       "    </tr>\n",
       "    <tr>\n",
       "      <th>29</th>\n",
       "      <td>use_of_alcohol</td>\n",
       "      <td>0.014455</td>\n",
       "    </tr>\n",
       "    <tr>\n",
       "      <th>17</th>\n",
       "      <td>mild_lyrics</td>\n",
       "      <td>0.016730</td>\n",
       "    </tr>\n",
       "    <tr>\n",
       "      <th>18</th>\n",
       "      <td>mild_suggestive_themes</td>\n",
       "      <td>0.017023</td>\n",
       "    </tr>\n",
       "    <tr>\n",
       "      <th>1</th>\n",
       "      <td>alcohol_reference</td>\n",
       "      <td>0.018284</td>\n",
       "    </tr>\n",
       "    <tr>\n",
       "      <th>19</th>\n",
       "      <td>mild_violence</td>\n",
       "      <td>0.020004</td>\n",
       "    </tr>\n",
       "    <tr>\n",
       "      <th>25</th>\n",
       "      <td>simulated_gambling</td>\n",
       "      <td>0.022200</td>\n",
       "    </tr>\n",
       "    <tr>\n",
       "      <th>24</th>\n",
       "      <td>sexual_themes</td>\n",
       "      <td>0.022309</td>\n",
       "    </tr>\n",
       "    <tr>\n",
       "      <th>9</th>\n",
       "      <td>intense_violence</td>\n",
       "      <td>0.024181</td>\n",
       "    </tr>\n",
       "    <tr>\n",
       "      <th>6</th>\n",
       "      <td>crude_humor</td>\n",
       "      <td>0.024247</td>\n",
       "    </tr>\n",
       "    <tr>\n",
       "      <th>0</th>\n",
       "      <td>console</td>\n",
       "      <td>0.026716</td>\n",
       "    </tr>\n",
       "    <tr>\n",
       "      <th>13</th>\n",
       "      <td>mild_blood</td>\n",
       "      <td>0.026808</td>\n",
       "    </tr>\n",
       "    <tr>\n",
       "      <th>27</th>\n",
       "      <td>strong_sexual_content</td>\n",
       "      <td>0.028000</td>\n",
       "    </tr>\n",
       "    <tr>\n",
       "      <th>28</th>\n",
       "      <td>suggestive_themes</td>\n",
       "      <td>0.031427</td>\n",
       "    </tr>\n",
       "    <tr>\n",
       "      <th>10</th>\n",
       "      <td>language</td>\n",
       "      <td>0.034876</td>\n",
       "    </tr>\n",
       "    <tr>\n",
       "      <th>31</th>\n",
       "      <td>violence</td>\n",
       "      <td>0.037605</td>\n",
       "    </tr>\n",
       "    <tr>\n",
       "      <th>15</th>\n",
       "      <td>mild_fantasy_violence</td>\n",
       "      <td>0.038215</td>\n",
       "    </tr>\n",
       "    <tr>\n",
       "      <th>4</th>\n",
       "      <td>blood_and_gore</td>\n",
       "      <td>0.073602</td>\n",
       "    </tr>\n",
       "    <tr>\n",
       "      <th>3</th>\n",
       "      <td>blood</td>\n",
       "      <td>0.092873</td>\n",
       "    </tr>\n",
       "    <tr>\n",
       "      <th>8</th>\n",
       "      <td>fantasy_violence</td>\n",
       "      <td>0.099012</td>\n",
       "    </tr>\n",
       "    <tr>\n",
       "      <th>26</th>\n",
       "      <td>strong_janguage</td>\n",
       "      <td>0.116773</td>\n",
       "    </tr>\n",
       "    <tr>\n",
       "      <th>20</th>\n",
       "      <td>no_descriptors</td>\n",
       "      <td>0.117375</td>\n",
       "    </tr>\n",
       "  </tbody>\n",
       "</table>\n",
       "</div>"
      ],
      "text/plain": [
       "                     feature  importance\n",
       "12              mature_humor    0.004425\n",
       "21                    nudity    0.005509\n",
       "30  use_of_drugs_and_alcohol    0.006430\n",
       "22            partial_nudity    0.007944\n",
       "2             animated_blood    0.008173\n",
       "14     mild_cartoon_violence    0.008499\n",
       "16             mild_language    0.009534\n",
       "23            sexual_content    0.010576\n",
       "7             drug_reference    0.011070\n",
       "11                    lyrics    0.012144\n",
       "5           cartoon_violence    0.012983\n",
       "29            use_of_alcohol    0.014455\n",
       "17               mild_lyrics    0.016730\n",
       "18    mild_suggestive_themes    0.017023\n",
       "1          alcohol_reference    0.018284\n",
       "19             mild_violence    0.020004\n",
       "25        simulated_gambling    0.022200\n",
       "24             sexual_themes    0.022309\n",
       "9           intense_violence    0.024181\n",
       "6                crude_humor    0.024247\n",
       "0                    console    0.026716\n",
       "13                mild_blood    0.026808\n",
       "27     strong_sexual_content    0.028000\n",
       "28         suggestive_themes    0.031427\n",
       "10                  language    0.034876\n",
       "31                  violence    0.037605\n",
       "15     mild_fantasy_violence    0.038215\n",
       "4             blood_and_gore    0.073602\n",
       "3                      blood    0.092873\n",
       "8           fantasy_violence    0.099012\n",
       "26           strong_janguage    0.116773\n",
       "20            no_descriptors    0.117375"
      ]
     },
     "execution_count": 81,
     "metadata": {},
     "output_type": "execute_result"
    }
   ],
   "source": [
    "Feature_Importances=pd.DataFrame({\"feature\":X_train.columns,\"importance\":rfc.feature_importances_})\n",
    "Feature_Importances.sort_values(\"importance\")"
   ]
  },
  {
   "cell_type": "code",
   "execution_count": 82,
   "metadata": {},
   "outputs": [
    {
     "data": {
      "text/plain": [
       "esrb_rating  no_descriptors\n",
       "0            1                 315\n",
       "             0                 201\n",
       "1            0                 512\n",
       "             1                  17\n",
       "2            0                 830\n",
       "             1                  43\n",
       "3            0                 473\n",
       "             1                   4\n",
       "Name: no_descriptors, dtype: int64"
      ]
     },
     "execution_count": 82,
     "metadata": {},
     "output_type": "execute_result"
    }
   ],
   "source": [
    "combined_csv.groupby(\"esrb_rating\")[\"no_descriptors\"].value_counts()\n",
    "#How many No Descriptors exist in each category"
   ]
  },
  {
   "cell_type": "code",
   "execution_count": 83,
   "metadata": {},
   "outputs": [
    {
     "data": {
      "image/png": "[encoded data removed]",
      "text/plain": [
       "<Figure size 432x288 with 1 Axes>"
      ]
     },
     "metadata": {
      "needs_background": "light"
     },
     "output_type": "display_data"
    }
   ],
   "source": [
    "# Data\n",
    "r = [0,1,2,3]\n",
    "No_Descriptor = {'E': [201, 512, 830, 473], 'ET': [315, 17, 43, 4]}\n",
    "df = pd.DataFrame(No_Descriptor)\n",
    "\n",
    "#From raw value to percentage\n",
    "totals = [i+j for i,j in zip(df['E'], df['ET'])]\n",
    "greenBars = [i / j * 100 for i,j in zip(df['E'], totals)]\n",
    "orangeBars = [i / j * 100 for i,j in zip(df['ET'], totals)]\n",
    "# plot\n",
    "barWidth = 0.85\n",
    "names = ('E','E+','T','M')\n",
    "# Create green Bars\n",
    "plt.bar(r, greenBars, color='#b5ffb9', edgecolor='black', width=barWidth, label=\"No No Descriptors\")\n",
    "# Create orange Bars\n",
    "plt.bar(r, orangeBars,bottom=greenBars, color='#f9bc86', edgecolor='black', width=barWidth, label=\"Yes No Descriptors\")\n",
    "# Custom x axis\n",
    "plt.xticks(r, names)\n",
    "plt.xlabel(\"group\")\n",
    "plt.legend(loc='upper left', bbox_to_anchor=(1,1), ncol=1)\n",
    "# Show graphic\n",
    "plt.title(label='# of No Descriptors in each Rating')\n",
    "plt.show()"
   ]
  },
  {
   "cell_type": "markdown",
   "metadata": {},
   "source": [
    "- No Descriptors has a significant impact on the E ratings"
   ]
  },
  {
   "cell_type": "markdown",
   "metadata": {},
   "source": [
    "# CONCLUSIONS & RECCOMENDATIONS"
   ]
  },
  {
   "cell_type": "markdown",
   "metadata": {},
   "source": [
    "- Next steps\n",
    "    - Research what makes up 'No Descriptors' category to futher analyze its impact on E Rating\n",
    "    - Explore further correlations and groupings to improve models"
   ]
  },
  {
   "cell_type": "code",
   "execution_count": null,
   "metadata": {},
   "outputs": [],
   "source": []
  }
 ],
 "metadata": {
  "kernelspec": {
   "display_name": "Python 3",
   "language": "python",
   "name": "python3"
  },
  "language_info": {
   "codemirror_mode": {
    "name": "ipython",
    "version": 3
   },
   "file_extension": ".py",
   "mimetype": "text/x-python",
   "name": "python",
   "nbconvert_exporter": "python",
   "pygments_lexer": "ipython3",
   "version": "3.6.9"
  },
  "toc": {
   "base_numbering": 1,
   "nav_menu": {},
   "number_sections": true,
   "sideBar": true,
   "skip_h1_title": false,
   "title_cell": "Table of Contents",
   "title_sidebar": "Contents",
   "toc_cell": false,
   "toc_position": {
    "height": "calc(100% - 180px)",
    "left": "10px",
    "top": "150px",
    "width": "298.188px"
   },
   "toc_section_display": true,
   "toc_window_display": true
  }
 },
 "nbformat": 4,
 "nbformat_minor": 2
}
